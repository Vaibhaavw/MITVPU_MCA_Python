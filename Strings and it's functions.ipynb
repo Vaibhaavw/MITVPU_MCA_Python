{
 "cells": [
  {
   "cell_type": "code",
   "execution_count": 1,
   "id": "10aa7ceb",
   "metadata": {},
   "outputs": [],
   "source": [
    "s = \"we are learning Python\""
   ]
  },
  {
   "cell_type": "code",
   "execution_count": 2,
   "id": "2cea7e25",
   "metadata": {},
   "outputs": [
    {
     "data": {
      "text/plain": [
       "'we are learning Python'"
      ]
     },
     "execution_count": 2,
     "metadata": {},
     "output_type": "execute_result"
    }
   ],
   "source": [
    "s"
   ]
  },
  {
   "cell_type": "code",
   "execution_count": 3,
   "id": "41d40896",
   "metadata": {},
   "outputs": [
    {
     "data": {
      "text/plain": [
       "'n'"
      ]
     },
     "execution_count": 3,
     "metadata": {},
     "output_type": "execute_result"
    }
   ],
   "source": [
    "s[-1]"
   ]
  },
  {
   "cell_type": "markdown",
   "id": "791b9fa5",
   "metadata": {},
   "source": [
    "# Comprehension Operation"
   ]
  },
  {
   "cell_type": "code",
   "execution_count": 4,
   "id": "8f0066ca",
   "metadata": {},
   "outputs": [
    {
     "data": {
      "text/plain": [
       "' Pyth'"
      ]
     },
     "execution_count": 4,
     "metadata": {},
     "output_type": "execute_result"
    }
   ],
   "source": [
    "s[-7:-2:-1]"
   ]
  },
  {
   "cell_type": "code",
   "execution_count": 5,
   "id": "de732872",
   "metadata": {},
   "outputs": [
    {
     "data": {
      "text/plain": [
       "'we are learning Python'"
      ]
     },
     "execution_count": 5,
     "metadata": {},
     "output_type": "execute_result"
    }
   ],
   "source": [
    "s"
   ]
  },
  {
   "cell_type": "code",
   "execution_count": 6,
   "id": "caf4c787",
   "metadata": {},
   "outputs": [
    {
     "ename": "TypeError",
     "evalue": "can only concatenate str (not \"int\") to str",
     "output_type": "error",
     "traceback": [
      "\u001b[0;31m---------------------------------------------------------------------------\u001b[0m",
      "\u001b[0;31mTypeError\u001b[0m                                 Traceback (most recent call last)",
      "Input \u001b[0;32mIn [6]\u001b[0m, in \u001b[0;36m<cell line: 1>\u001b[0;34m()\u001b[0m\n\u001b[0;32m----> 1\u001b[0m \u001b[43ms\u001b[49m\u001b[38;5;241;43m+\u001b[39;49m\u001b[38;5;241;43m1\u001b[39;49m\n",
      "\u001b[0;31mTypeError\u001b[0m: can only concatenate str (not \"int\") to str"
     ]
    }
   ],
   "source": [
    "s+1"
   ]
  },
  {
   "cell_type": "code",
   "execution_count": 9,
   "id": "f1fce0a0",
   "metadata": {},
   "outputs": [],
   "source": [
    "s1 = s+'1'"
   ]
  },
  {
   "cell_type": "code",
   "execution_count": 10,
   "id": "2b6ceb5d",
   "metadata": {},
   "outputs": [
    {
     "data": {
      "text/plain": [
       "'we are learning Python1'"
      ]
     },
     "execution_count": 10,
     "metadata": {},
     "output_type": "execute_result"
    }
   ],
   "source": [
    "s1"
   ]
  },
  {
   "cell_type": "code",
   "execution_count": 11,
   "id": "cea4e461",
   "metadata": {},
   "outputs": [],
   "source": [
    "s = s1"
   ]
  },
  {
   "cell_type": "code",
   "execution_count": 12,
   "id": "b6dc60be",
   "metadata": {},
   "outputs": [
    {
     "data": {
      "text/plain": [
       "'we are learning Python1'"
      ]
     },
     "execution_count": 12,
     "metadata": {},
     "output_type": "execute_result"
    }
   ],
   "source": [
    "s"
   ]
  },
  {
   "cell_type": "code",
   "execution_count": 13,
   "id": "8a1fafd6",
   "metadata": {},
   "outputs": [],
   "source": [
    "s = 'we are learning Python123'"
   ]
  },
  {
   "cell_type": "code",
   "execution_count": 14,
   "id": "3d5b16b6",
   "metadata": {},
   "outputs": [
    {
     "data": {
      "text/plain": [
       "'we are learning Python123'"
      ]
     },
     "execution_count": 14,
     "metadata": {},
     "output_type": "execute_result"
    }
   ],
   "source": [
    "s"
   ]
  },
  {
   "cell_type": "code",
   "execution_count": 15,
   "id": "98e22cb9",
   "metadata": {},
   "outputs": [
    {
     "data": {
      "text/plain": [
       "'we are learning Python1'"
      ]
     },
     "execution_count": 15,
     "metadata": {},
     "output_type": "execute_result"
    }
   ],
   "source": [
    "s1"
   ]
  },
  {
   "cell_type": "code",
   "execution_count": 18,
   "id": "d871ecb2",
   "metadata": {},
   "outputs": [
    {
     "data": {
      "text/plain": [
       "'we are learning Python134634'"
      ]
     },
     "execution_count": 18,
     "metadata": {},
     "output_type": "execute_result"
    }
   ],
   "source": [
    "s1+str(34634)"
   ]
  },
  {
   "cell_type": "code",
   "execution_count": 17,
   "id": "e458ff04",
   "metadata": {},
   "outputs": [
    {
     "data": {
      "text/plain": [
       "'we are learning Python1'"
      ]
     },
     "execution_count": 17,
     "metadata": {},
     "output_type": "execute_result"
    }
   ],
   "source": [
    "s1"
   ]
  },
  {
   "cell_type": "code",
   "execution_count": 20,
   "id": "005eece1",
   "metadata": {},
   "outputs": [
    {
     "data": {
      "text/plain": [
       "23"
      ]
     },
     "execution_count": 20,
     "metadata": {},
     "output_type": "execute_result"
    }
   ],
   "source": [
    "len(s1)"
   ]
  },
  {
   "cell_type": "code",
   "execution_count": 38,
   "id": "a343ab53",
   "metadata": {},
   "outputs": [],
   "source": [
    "s2 = 'Madhu'"
   ]
  },
  {
   "cell_type": "code",
   "execution_count": 39,
   "id": "22db4626",
   "metadata": {},
   "outputs": [
    {
     "data": {
      "text/plain": [
       "'MadhuMadhuMadhuMadhuMadhu'"
      ]
     },
     "execution_count": 39,
     "metadata": {},
     "output_type": "execute_result"
    }
   ],
   "source": [
    "s2*5"
   ]
  },
  {
   "cell_type": "code",
   "execution_count": 33,
   "id": "086dc82b",
   "metadata": {},
   "outputs": [],
   "source": [
    "s2 = \"kldfnsdnb.kahrgoigfhdj\""
   ]
  },
  {
   "cell_type": "code",
   "execution_count": 40,
   "id": "7b3bca62",
   "metadata": {},
   "outputs": [
    {
     "data": {
      "text/plain": [
       "5"
      ]
     },
     "execution_count": 40,
     "metadata": {},
     "output_type": "execute_result"
    }
   ],
   "source": [
    "(s2*5).count('Madhu')"
   ]
  },
  {
   "cell_type": "code",
   "execution_count": 42,
   "id": "811566af",
   "metadata": {},
   "outputs": [],
   "source": [
    "s3 = s2*5"
   ]
  },
  {
   "cell_type": "markdown",
   "id": "36853dd8",
   "metadata": {},
   "source": [
    "### "
   ]
  },
  {
   "cell_type": "code",
   "execution_count": 43,
   "id": "fac852ed",
   "metadata": {},
   "outputs": [
    {
     "data": {
      "text/plain": [
       "'MadhuMadhuMadhuMadhuMadhu'"
      ]
     },
     "execution_count": 43,
     "metadata": {},
     "output_type": "execute_result"
    }
   ],
   "source": [
    "s3"
   ]
  },
  {
   "cell_type": "code",
   "execution_count": 45,
   "id": "ecbd0d19",
   "metadata": {},
   "outputs": [
    {
     "data": {
      "text/plain": [
       "['Mad', 'uMad', 'uMad', 'uMad', 'uMad', 'u']"
      ]
     },
     "execution_count": 45,
     "metadata": {},
     "output_type": "execute_result"
    }
   ],
   "source": [
    "s3.split('h')"
   ]
  },
  {
   "cell_type": "code",
   "execution_count": 46,
   "id": "43a94303",
   "metadata": {},
   "outputs": [
    {
     "data": {
      "text/plain": [
       "list"
      ]
     },
     "execution_count": 46,
     "metadata": {},
     "output_type": "execute_result"
    }
   ],
   "source": [
    "type(s3.split('h'))"
   ]
  },
  {
   "cell_type": "code",
   "execution_count": 49,
   "id": "f148ea21",
   "metadata": {},
   "outputs": [],
   "source": [
    "s4 = \"Lorem Ipsum is simply dummy text of the printing and typesetting industry. Lorem Ipsum has been the industry's standard dummy text ever since the 1500s, when an unknown printer took a galley of type and scrambled it to make a type specimen book. It has survived not only five centuries, but also the leap into electronic typesetting, remaining essentially unchanged. It was popularised in the 1960s with the release of Letraset sheets containing Lorem Ipsum passages, and more recently with desktop publishing software like Aldus PageMaker including versions of Lorem Ipsum.\""
   ]
  },
  {
   "cell_type": "code",
   "execution_count": 50,
   "id": "3ac9fb19",
   "metadata": {},
   "outputs": [
    {
     "data": {
      "text/plain": [
       "\"Lorem Ipsum is simply dummy text of the printing and typesetting industry. Lorem Ipsum has been the industry's standard dummy text ever since the 1500s, when an unknown printer took a galley of type and scrambled it to make a type specimen book. It has survived not only five centuries, but also the leap into electronic typesetting, remaining essentially unchanged. It was popularised in the 1960s with the release of Letraset sheets containing Lorem Ipsum passages, and more recently with desktop publishing software like Aldus PageMaker including versions of Lorem Ipsum.\""
      ]
     },
     "execution_count": 50,
     "metadata": {},
     "output_type": "execute_result"
    }
   ],
   "source": [
    "s4"
   ]
  },
  {
   "cell_type": "markdown",
   "id": "a449f025",
   "metadata": {},
   "source": [
    "### How many words are there in s4"
   ]
  },
  {
   "cell_type": "code",
   "execution_count": 51,
   "id": "d6a8856f",
   "metadata": {},
   "outputs": [
    {
     "data": {
      "text/plain": [
       "['Lorem',\n",
       " 'Ipsum',\n",
       " 'is',\n",
       " 'simply',\n",
       " 'dummy',\n",
       " 'text',\n",
       " 'of',\n",
       " 'the',\n",
       " 'printing',\n",
       " 'and',\n",
       " 'typesetting',\n",
       " 'industry.',\n",
       " 'Lorem',\n",
       " 'Ipsum',\n",
       " 'has',\n",
       " 'been',\n",
       " 'the',\n",
       " \"industry's\",\n",
       " 'standard',\n",
       " 'dummy',\n",
       " 'text',\n",
       " 'ever',\n",
       " 'since',\n",
       " 'the',\n",
       " '1500s,',\n",
       " 'when',\n",
       " 'an',\n",
       " 'unknown',\n",
       " 'printer',\n",
       " 'took',\n",
       " 'a',\n",
       " 'galley',\n",
       " 'of',\n",
       " 'type',\n",
       " 'and',\n",
       " 'scrambled',\n",
       " 'it',\n",
       " 'to',\n",
       " 'make',\n",
       " 'a',\n",
       " 'type',\n",
       " 'specimen',\n",
       " 'book.',\n",
       " 'It',\n",
       " 'has',\n",
       " 'survived',\n",
       " 'not',\n",
       " 'only',\n",
       " 'five',\n",
       " 'centuries,',\n",
       " 'but',\n",
       " 'also',\n",
       " 'the',\n",
       " 'leap',\n",
       " 'into',\n",
       " 'electronic',\n",
       " 'typesetting,',\n",
       " 'remaining',\n",
       " 'essentially',\n",
       " 'unchanged.',\n",
       " 'It',\n",
       " 'was',\n",
       " 'popularised',\n",
       " 'in',\n",
       " 'the',\n",
       " '1960s',\n",
       " 'with',\n",
       " 'the',\n",
       " 'release',\n",
       " 'of',\n",
       " 'Letraset',\n",
       " 'sheets',\n",
       " 'containing',\n",
       " 'Lorem',\n",
       " 'Ipsum',\n",
       " 'passages,',\n",
       " 'and',\n",
       " 'more',\n",
       " 'recently',\n",
       " 'with',\n",
       " 'desktop',\n",
       " 'publishing',\n",
       " 'software',\n",
       " 'like',\n",
       " 'Aldus',\n",
       " 'PageMaker',\n",
       " 'including',\n",
       " 'versions',\n",
       " 'of',\n",
       " 'Lorem',\n",
       " 'Ipsum.']"
      ]
     },
     "execution_count": 51,
     "metadata": {},
     "output_type": "execute_result"
    }
   ],
   "source": [
    "s4.split(\" \")"
   ]
  },
  {
   "cell_type": "code",
   "execution_count": 52,
   "id": "0d72c085",
   "metadata": {},
   "outputs": [
    {
     "data": {
      "text/plain": [
       "\"Lorem Ipsum is simply dummy text of the printing and typesetting industry. Lorem Ipsum has been the industry's standard dummy text ever since the 1500s, when an unknown printer took a galley of type and scrambled it to make a type specimen book. It has survived not only five centuries, but also the leap into electronic typesetting, remaining essentially unchanged. It was popularised in the 1960s with the release of Letraset sheets containing Lorem Ipsum passages, and more recently with desktop publishing software like Aldus PageMaker including versions of Lorem Ipsum.\""
      ]
     },
     "execution_count": 52,
     "metadata": {},
     "output_type": "execute_result"
    }
   ],
   "source": [
    "s4"
   ]
  },
  {
   "cell_type": "code",
   "execution_count": 53,
   "id": "560ffeed",
   "metadata": {},
   "outputs": [
    {
     "data": {
      "text/plain": [
       "574"
      ]
     },
     "execution_count": 53,
     "metadata": {},
     "output_type": "execute_result"
    }
   ],
   "source": [
    "len(s4)"
   ]
  },
  {
   "cell_type": "code",
   "execution_count": 54,
   "id": "570caffc",
   "metadata": {},
   "outputs": [
    {
     "data": {
      "text/plain": [
       "91"
      ]
     },
     "execution_count": 54,
     "metadata": {},
     "output_type": "execute_result"
    }
   ],
   "source": [
    "len(s4.split(\" \"))"
   ]
  },
  {
   "cell_type": "code",
   "execution_count": 56,
   "id": "682a8c79",
   "metadata": {},
   "outputs": [],
   "source": [
    "s4 = s4.upper()"
   ]
  },
  {
   "cell_type": "code",
   "execution_count": 57,
   "id": "9a5438d6",
   "metadata": {},
   "outputs": [
    {
     "data": {
      "text/plain": [
       "\"LOREM IPSUM IS SIMPLY DUMMY TEXT OF THE PRINTING AND TYPESETTING INDUSTRY. LOREM IPSUM HAS BEEN THE INDUSTRY'S STANDARD DUMMY TEXT EVER SINCE THE 1500S, WHEN AN UNKNOWN PRINTER TOOK A GALLEY OF TYPE AND SCRAMBLED IT TO MAKE A TYPE SPECIMEN BOOK. IT HAS SURVIVED NOT ONLY FIVE CENTURIES, BUT ALSO THE LEAP INTO ELECTRONIC TYPESETTING, REMAINING ESSENTIALLY UNCHANGED. IT WAS POPULARISED IN THE 1960S WITH THE RELEASE OF LETRASET SHEETS CONTAINING LOREM IPSUM PASSAGES, AND MORE RECENTLY WITH DESKTOP PUBLISHING SOFTWARE LIKE ALDUS PAGEMAKER INCLUDING VERSIONS OF LOREM IPSUM.\""
      ]
     },
     "execution_count": 57,
     "metadata": {},
     "output_type": "execute_result"
    }
   ],
   "source": [
    "s4"
   ]
  },
  {
   "cell_type": "code",
   "execution_count": 58,
   "id": "48c2e6fd",
   "metadata": {},
   "outputs": [
    {
     "data": {
      "text/plain": [
       "\"lorem ipsum is simply dummy text of the printing and typesetting industry. lorem ipsum has been the industry's standard dummy text ever since the 1500s, when an unknown printer took a galley of type and scrambled it to make a type specimen book. it has survived not only five centuries, but also the leap into electronic typesetting, remaining essentially unchanged. it was popularised in the 1960s with the release of letraset sheets containing lorem ipsum passages, and more recently with desktop publishing software like aldus pagemaker including versions of lorem ipsum.\""
      ]
     },
     "execution_count": 58,
     "metadata": {},
     "output_type": "execute_result"
    }
   ],
   "source": [
    "s4.lower()"
   ]
  },
  {
   "cell_type": "code",
   "execution_count": 61,
   "id": "8b95c4e3",
   "metadata": {},
   "outputs": [],
   "source": [
    "s5 = \"ritika rangrej\""
   ]
  },
  {
   "cell_type": "code",
   "execution_count": 62,
   "id": "a4944a3f",
   "metadata": {},
   "outputs": [
    {
     "data": {
      "text/plain": [
       "'Ritika Rangrej'"
      ]
     },
     "execution_count": 62,
     "metadata": {},
     "output_type": "execute_result"
    }
   ],
   "source": [
    "s5.title()"
   ]
  },
  {
   "cell_type": "code",
   "execution_count": 63,
   "id": "862b1959",
   "metadata": {},
   "outputs": [
    {
     "data": {
      "text/plain": [
       "'Ritika rangrej'"
      ]
     },
     "execution_count": 63,
     "metadata": {},
     "output_type": "execute_result"
    }
   ],
   "source": [
    "s5.capitalize()"
   ]
  },
  {
   "cell_type": "code",
   "execution_count": 65,
   "id": "e4d19045",
   "metadata": {},
   "outputs": [],
   "source": [
    "s6 = \"RitiKA RangREJ\""
   ]
  },
  {
   "cell_type": "code",
   "execution_count": 66,
   "id": "69de784c",
   "metadata": {},
   "outputs": [
    {
     "data": {
      "text/plain": [
       "'rITIka rANGrej'"
      ]
     },
     "execution_count": 66,
     "metadata": {},
     "output_type": "execute_result"
    }
   ],
   "source": [
    "s6.swapcase()"
   ]
  },
  {
   "cell_type": "code",
   "execution_count": 67,
   "id": "4c486490",
   "metadata": {},
   "outputs": [
    {
     "data": {
      "text/plain": [
       "<reversed at 0x7fa08c73dd90>"
      ]
     },
     "execution_count": 67,
     "metadata": {},
     "output_type": "execute_result"
    }
   ],
   "source": [
    "reversed(s6)"
   ]
  },
  {
   "cell_type": "code",
   "execution_count": 70,
   "id": "372ffd6c",
   "metadata": {},
   "outputs": [
    {
     "data": {
      "text/plain": [
       "'J*E*R*g*n*a*R* *A*K*i*t*i*R'"
      ]
     },
     "execution_count": 70,
     "metadata": {},
     "output_type": "execute_result"
    }
   ],
   "source": [
    "'*'.join(reversed(s6))"
   ]
  },
  {
   "cell_type": "code",
   "execution_count": 74,
   "id": "5d7e4eb6",
   "metadata": {},
   "outputs": [],
   "source": [
    "s7 = \"    Tejas    Kumbhar    \""
   ]
  },
  {
   "cell_type": "code",
   "execution_count": 75,
   "id": "422795cf",
   "metadata": {},
   "outputs": [
    {
     "data": {
      "text/plain": [
       "'    Tejas    Kumbhar    '"
      ]
     },
     "execution_count": 75,
     "metadata": {},
     "output_type": "execute_result"
    }
   ],
   "source": [
    "s7"
   ]
  },
  {
   "cell_type": "code",
   "execution_count": 76,
   "id": "b25dddd5",
   "metadata": {},
   "outputs": [
    {
     "data": {
      "text/plain": [
       "'Tejas    Kumbhar'"
      ]
     },
     "execution_count": 76,
     "metadata": {},
     "output_type": "execute_result"
    }
   ],
   "source": [
    "s7.strip()"
   ]
  },
  {
   "cell_type": "code",
   "execution_count": 77,
   "id": "0be27114",
   "metadata": {},
   "outputs": [
    {
     "data": {
      "text/plain": [
       "'    Tejas    Kumbhar    '"
      ]
     },
     "execution_count": 77,
     "metadata": {},
     "output_type": "execute_result"
    }
   ],
   "source": [
    "s7"
   ]
  },
  {
   "cell_type": "code",
   "execution_count": 78,
   "id": "bc05838f",
   "metadata": {},
   "outputs": [
    {
     "data": {
      "text/plain": [
       "'Tejas    Kumbhar    '"
      ]
     },
     "execution_count": 78,
     "metadata": {},
     "output_type": "execute_result"
    }
   ],
   "source": [
    "s7.lstrip()"
   ]
  },
  {
   "cell_type": "code",
   "execution_count": 79,
   "id": "08b0eb9e",
   "metadata": {},
   "outputs": [
    {
     "data": {
      "text/plain": [
       "'    Tejas    Kumbhar'"
      ]
     },
     "execution_count": 79,
     "metadata": {},
     "output_type": "execute_result"
    }
   ],
   "source": [
    "s7.rstrip()"
   ]
  },
  {
   "cell_type": "code",
   "execution_count": 92,
   "id": "6cc5bdae",
   "metadata": {},
   "outputs": [],
   "source": [
    "s8 = 'madhu Priya'"
   ]
  },
  {
   "cell_type": "code",
   "execution_count": 85,
   "id": "4dbcbc23",
   "metadata": {},
   "outputs": [
    {
     "data": {
      "text/plain": [
       "'**********Madhu***********'"
      ]
     },
     "execution_count": 85,
     "metadata": {},
     "output_type": "execute_result"
    }
   ],
   "source": [
    "s8.center(26, \"*\")"
   ]
  },
  {
   "cell_type": "code",
   "execution_count": 86,
   "id": "9d17a4db",
   "metadata": {},
   "outputs": [
    {
     "data": {
      "text/plain": [
       "'Madhu'"
      ]
     },
     "execution_count": 86,
     "metadata": {},
     "output_type": "execute_result"
    }
   ],
   "source": [
    "s8"
   ]
  },
  {
   "cell_type": "code",
   "execution_count": 87,
   "id": "ab192e17",
   "metadata": {},
   "outputs": [
    {
     "data": {
      "text/plain": [
       "False"
      ]
     },
     "execution_count": 87,
     "metadata": {},
     "output_type": "execute_result"
    }
   ],
   "source": [
    "s8.isupper()"
   ]
  },
  {
   "cell_type": "code",
   "execution_count": 90,
   "id": "f1357ffc",
   "metadata": {},
   "outputs": [
    {
     "data": {
      "text/plain": [
       "True"
      ]
     },
     "execution_count": 90,
     "metadata": {},
     "output_type": "execute_result"
    }
   ],
   "source": [
    "s8.islower()"
   ]
  },
  {
   "cell_type": "code",
   "execution_count": 93,
   "id": "e9bacd5b",
   "metadata": {},
   "outputs": [
    {
     "data": {
      "text/plain": [
       "False"
      ]
     },
     "execution_count": 93,
     "metadata": {},
     "output_type": "execute_result"
    }
   ],
   "source": [
    "s8.isspace()"
   ]
  },
  {
   "cell_type": "code",
   "execution_count": 94,
   "id": "908df3dc",
   "metadata": {},
   "outputs": [],
   "source": [
    "s = \"           \""
   ]
  },
  {
   "cell_type": "code",
   "execution_count": 95,
   "id": "a74b929b",
   "metadata": {},
   "outputs": [
    {
     "data": {
      "text/plain": [
       "True"
      ]
     },
     "execution_count": 95,
     "metadata": {},
     "output_type": "execute_result"
    }
   ],
   "source": [
    "s.isspace()"
   ]
  },
  {
   "cell_type": "code",
   "execution_count": 96,
   "id": "37c6f0c3",
   "metadata": {},
   "outputs": [
    {
     "data": {
      "text/plain": [
       "False"
      ]
     },
     "execution_count": 96,
     "metadata": {},
     "output_type": "execute_result"
    }
   ],
   "source": [
    "s8.isdigit()"
   ]
  },
  {
   "cell_type": "code",
   "execution_count": 97,
   "id": "876615a2",
   "metadata": {},
   "outputs": [],
   "source": [
    "s9 = \"SCFP123003\""
   ]
  },
  {
   "cell_type": "code",
   "execution_count": 98,
   "id": "8b04c832",
   "metadata": {},
   "outputs": [
    {
     "data": {
      "text/plain": [
       "False"
      ]
     },
     "execution_count": 98,
     "metadata": {},
     "output_type": "execute_result"
    }
   ],
   "source": [
    "s9.isdigit()"
   ]
  },
  {
   "cell_type": "code",
   "execution_count": 110,
   "id": "8a68fccc",
   "metadata": {},
   "outputs": [],
   "source": [
    "s9 = \"fgsdf8347653874\""
   ]
  },
  {
   "cell_type": "code",
   "execution_count": 111,
   "id": "daaf41b2",
   "metadata": {},
   "outputs": [
    {
     "data": {
      "text/plain": [
       "str"
      ]
     },
     "execution_count": 111,
     "metadata": {},
     "output_type": "execute_result"
    }
   ],
   "source": [
    "type(s9)"
   ]
  },
  {
   "cell_type": "code",
   "execution_count": 112,
   "id": "2de04b59",
   "metadata": {},
   "outputs": [
    {
     "data": {
      "text/plain": [
       "False"
      ]
     },
     "execution_count": 112,
     "metadata": {},
     "output_type": "execute_result"
    }
   ],
   "source": [
    "s9.isdigit()"
   ]
  },
  {
   "cell_type": "code",
   "execution_count": 113,
   "id": "cd4ec7ab",
   "metadata": {},
   "outputs": [
    {
     "data": {
      "text/plain": [
       "True"
      ]
     },
     "execution_count": 113,
     "metadata": {},
     "output_type": "execute_result"
    }
   ],
   "source": [
    "s9.isalnum()"
   ]
  },
  {
   "cell_type": "code",
   "execution_count": 114,
   "id": "43670351",
   "metadata": {},
   "outputs": [],
   "source": [
    "s10 = \"djfhgklsdjf\""
   ]
  },
  {
   "cell_type": "code",
   "execution_count": 115,
   "id": "8f542ca2",
   "metadata": {},
   "outputs": [
    {
     "data": {
      "text/plain": [
       "True"
      ]
     },
     "execution_count": 115,
     "metadata": {},
     "output_type": "execute_result"
    }
   ],
   "source": [
    "s10.isalnum()"
   ]
  },
  {
   "cell_type": "code",
   "execution_count": 116,
   "id": "0d140ede",
   "metadata": {},
   "outputs": [
    {
     "data": {
      "text/plain": [
       "True"
      ]
     },
     "execution_count": 116,
     "metadata": {},
     "output_type": "execute_result"
    }
   ],
   "source": [
    "s10.isalpha()"
   ]
  },
  {
   "cell_type": "code",
   "execution_count": 117,
   "id": "bfb33b63",
   "metadata": {},
   "outputs": [
    {
     "data": {
      "text/plain": [
       "False"
      ]
     },
     "execution_count": 117,
     "metadata": {},
     "output_type": "execute_result"
    }
   ],
   "source": [
    "s9.isalpha()"
   ]
  },
  {
   "cell_type": "code",
   "execution_count": 118,
   "id": "f1e44c51",
   "metadata": {},
   "outputs": [
    {
     "data": {
      "text/plain": [
       "'djfhgklsdjf'"
      ]
     },
     "execution_count": 118,
     "metadata": {},
     "output_type": "execute_result"
    }
   ],
   "source": [
    "s10"
   ]
  },
  {
   "cell_type": "code",
   "execution_count": 120,
   "id": "7958610f",
   "metadata": {},
   "outputs": [
    {
     "data": {
      "text/plain": [
       "True"
      ]
     },
     "execution_count": 120,
     "metadata": {},
     "output_type": "execute_result"
    }
   ],
   "source": [
    "s10.startswith('d')"
   ]
  },
  {
   "cell_type": "code",
   "execution_count": 122,
   "id": "63ff6807",
   "metadata": {},
   "outputs": [
    {
     "data": {
      "text/plain": [
       "True"
      ]
     },
     "execution_count": 122,
     "metadata": {},
     "output_type": "execute_result"
    }
   ],
   "source": [
    "s10.endswith('f')"
   ]
  },
  {
   "cell_type": "code",
   "execution_count": 123,
   "id": "5798becf",
   "metadata": {},
   "outputs": [
    {
     "data": {
      "text/plain": [
       "False"
      ]
     },
     "execution_count": 123,
     "metadata": {},
     "output_type": "execute_result"
    }
   ],
   "source": [
    "s10.isdigit()"
   ]
  },
  {
   "cell_type": "code",
   "execution_count": 124,
   "id": "c90907da",
   "metadata": {},
   "outputs": [
    {
     "data": {
      "text/plain": [
       "False"
      ]
     },
     "execution_count": 124,
     "metadata": {},
     "output_type": "execute_result"
    }
   ],
   "source": [
    "s10.isnumeric()"
   ]
  },
  {
   "cell_type": "code",
   "execution_count": 125,
   "id": "434eba1b",
   "metadata": {},
   "outputs": [],
   "source": [
    "s11 = \"43867238\""
   ]
  },
  {
   "cell_type": "code",
   "execution_count": 126,
   "id": "c7b7c433",
   "metadata": {},
   "outputs": [],
   "source": [
    "s12 = \"dfjbv43534\""
   ]
  },
  {
   "cell_type": "code",
   "execution_count": 128,
   "id": "456ddc29",
   "metadata": {},
   "outputs": [
    {
     "data": {
      "text/plain": [
       "False"
      ]
     },
     "execution_count": 128,
     "metadata": {},
     "output_type": "execute_result"
    }
   ],
   "source": [
    "s12.isdigit()"
   ]
  },
  {
   "cell_type": "code",
   "execution_count": 131,
   "id": "842427a4",
   "metadata": {},
   "outputs": [
    {
     "data": {
      "text/plain": [
       "True"
      ]
     },
     "execution_count": 131,
     "metadata": {},
     "output_type": "execute_result"
    }
   ],
   "source": [
    "s11.isnumeric()"
   ]
  },
  {
   "cell_type": "code",
   "execution_count": 132,
   "id": "2247ce15",
   "metadata": {},
   "outputs": [],
   "source": [
    "s13 = \"D\""
   ]
  },
  {
   "cell_type": "code",
   "execution_count": 133,
   "id": "b79630eb",
   "metadata": {},
   "outputs": [
    {
     "data": {
      "text/plain": [
       "False"
      ]
     },
     "execution_count": 133,
     "metadata": {},
     "output_type": "execute_result"
    }
   ],
   "source": [
    "s13.isnumeric()"
   ]
  },
  {
   "cell_type": "code",
   "execution_count": 134,
   "id": "98819626",
   "metadata": {},
   "outputs": [
    {
     "data": {
      "text/plain": [
       "False"
      ]
     },
     "execution_count": 134,
     "metadata": {},
     "output_type": "execute_result"
    }
   ],
   "source": [
    "s13.isdigit()"
   ]
  },
  {
   "cell_type": "markdown",
   "id": "ef19edaa",
   "metadata": {},
   "source": [
    "Homework:---> 1. What is the difference between isnumeric() and is digit()"
   ]
  },
  {
   "cell_type": "code",
   "execution_count": 135,
   "id": "50db30e9",
   "metadata": {},
   "outputs": [],
   "source": [
    "s = \"Python\\tis\\ta\\tbeautiful\\tlanguage\""
   ]
  },
  {
   "cell_type": "code",
   "execution_count": 136,
   "id": "39aef9bc",
   "metadata": {},
   "outputs": [
    {
     "data": {
      "text/plain": [
       "'Python\\tis\\ta\\tbeautiful\\tlanguage'"
      ]
     },
     "execution_count": 136,
     "metadata": {},
     "output_type": "execute_result"
    }
   ],
   "source": [
    "s"
   ]
  },
  {
   "cell_type": "code",
   "execution_count": 137,
   "id": "d635f8c6",
   "metadata": {},
   "outputs": [
    {
     "data": {
      "text/plain": [
       "'Python  is      a       beautiful       language'"
      ]
     },
     "execution_count": 137,
     "metadata": {},
     "output_type": "execute_result"
    }
   ],
   "source": [
    "s.expandtabs()"
   ]
  },
  {
   "cell_type": "code",
   "execution_count": 138,
   "id": "e2dbe5ca",
   "metadata": {},
   "outputs": [],
   "source": [
    "s = \"Python\\nis\\ta\\tbeautiful\\tlanguage\""
   ]
  },
  {
   "cell_type": "code",
   "execution_count": 139,
   "id": "84809710",
   "metadata": {},
   "outputs": [
    {
     "data": {
      "text/plain": [
       "'Python\\nis      a       beautiful       language'"
      ]
     },
     "execution_count": 139,
     "metadata": {},
     "output_type": "execute_result"
    }
   ],
   "source": [
    "s.expandtabs()"
   ]
  },
  {
   "cell_type": "raw",
   "id": "7fedbbd1",
   "metadata": {},
   "source": [
    "# Homework-1\n",
    "\n",
    "s = \"this is My First Python programming class and i am learNING python string and its function\"\n",
    "1 . Try to extract data from index one to index 300 with a jump of 3 \n",
    "2. Try to reverse a string without using reverse function \n",
    "3. Try to split a string after conversion of entire string in uppercase \n",
    "4. try to convert the whole string into lower case \n",
    "5 . Try to capitalize the whole string \n",
    "6 . Write a diference between isalnum() and isalpha()\n",
    "7. Try to give an example of expand tab\n",
    "8 . Give an example of strip , lstrip and rstrip \n",
    "9.  Replace a string charecter by another charector by taking your own example \n",
    "\"Madhu Priya\"\n",
    "10 . Try  to give a defination of string center function with and exmple \n",
    "11 . Write your own definition of compiler and interpretor without copy paste form internet in your own language\n",
    "12 . Python is a interpreted of compiled language give a clear ans with your understanding \n",
    "13 . Try to write a usecase of python with your understanding .\n",
    "14. Why Python is So Popular?\n",
    "15. What is the difference between C, C++, Java and Python?\n"
   ]
  },
  {
   "cell_type": "code",
   "execution_count": null,
   "id": "95bde50e",
   "metadata": {},
   "outputs": [],
   "source": []
  }
 ],
 "metadata": {
  "kernelspec": {
   "display_name": "Python 3 (ipykernel)",
   "language": "python",
   "name": "python3"
  },
  "language_info": {
   "codemirror_mode": {
    "name": "ipython",
    "version": 3
   },
   "file_extension": ".py",
   "mimetype": "text/x-python",
   "name": "python",
   "nbconvert_exporter": "python",
   "pygments_lexer": "ipython3",
   "version": "3.9.12"
  }
 },
 "nbformat": 4,
 "nbformat_minor": 5
}
