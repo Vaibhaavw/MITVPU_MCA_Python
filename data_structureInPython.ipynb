{
 "cells": [
  {
   "cell_type": "markdown",
   "id": "e98a9ad2",
   "metadata": {},
   "source": [
    "# Data structure in Python"
   ]
  },
  {
   "cell_type": "markdown",
   "id": "91c19e26",
   "metadata": {},
   "source": [
    "1. List\n",
    "2. Tuple\n",
    "3. Dictionary\n",
    "4. Set"
   ]
  },
  {
   "cell_type": "markdown",
   "id": "80d988d2",
   "metadata": {},
   "source": [
    "# List"
   ]
  },
  {
   "cell_type": "raw",
   "id": "4281682d",
   "metadata": {},
   "source": [
    "1.It is collection of different data types.\n",
    "2. It is heterogenous.\n",
    "3. It is denoted by [].\n"
   ]
  },
  {
   "cell_type": "markdown",
   "id": "7c6f184b",
   "metadata": {},
   "source": [
    "# Q. Does Array contains homogenous or heterogenous data Type?"
   ]
  },
  {
   "cell_type": "markdown",
   "id": "67192728",
   "metadata": {},
   "source": [
    "Homogenous"
   ]
  },
  {
   "cell_type": "markdown",
   "id": "c38f7be5",
   "metadata": {},
   "source": [
    "# Question"
   ]
  },
  {
   "cell_type": "raw",
   "id": "bd1c7ebc",
   "metadata": {},
   "source": [
    "\n",
    "Q. What is the application of list in real time?\n",
    "Q. Why are we studying it?\n",
    "Q. Where do we use in real life?\n",
    "\n"
   ]
  },
  {
   "cell_type": "code",
   "execution_count": 1,
   "id": "db417f8c",
   "metadata": {},
   "outputs": [],
   "source": [
    "l = [2,3,4, \"Namdev\", \"Tejas\", \"Vaibhav\", \"Ritika\", 4.5, True]"
   ]
  },
  {
   "cell_type": "code",
   "execution_count": 2,
   "id": "78c2293a",
   "metadata": {},
   "outputs": [
    {
     "data": {
      "text/plain": [
       "[2, 3, 4, 'Namdev', 'Tejas', 'Vaibhav', 'Ritika', 4.5, True]"
      ]
     },
     "execution_count": 2,
     "metadata": {},
     "output_type": "execute_result"
    }
   ],
   "source": [
    "l"
   ]
  },
  {
   "cell_type": "code",
   "execution_count": 8,
   "id": "0151c3bb",
   "metadata": {},
   "outputs": [
    {
     "data": {
      "text/plain": [
       "'Namdev'"
      ]
     },
     "execution_count": 8,
     "metadata": {},
     "output_type": "execute_result"
    }
   ],
   "source": [
    "l[3]"
   ]
  },
  {
   "cell_type": "code",
   "execution_count": 9,
   "id": "425daa71",
   "metadata": {},
   "outputs": [
    {
     "data": {
      "text/plain": [
       "6"
      ]
     },
     "execution_count": 9,
     "metadata": {},
     "output_type": "execute_result"
    }
   ],
   "source": [
    "len(l[3])"
   ]
  },
  {
   "cell_type": "code",
   "execution_count": 4,
   "id": "c8b8e679",
   "metadata": {},
   "outputs": [
    {
     "data": {
      "text/plain": [
       "4.5"
      ]
     },
     "execution_count": 4,
     "metadata": {},
     "output_type": "execute_result"
    }
   ],
   "source": [
    "l[-2]"
   ]
  },
  {
   "cell_type": "code",
   "execution_count": 5,
   "id": "6843a799",
   "metadata": {},
   "outputs": [
    {
     "data": {
      "text/plain": [
       "9"
      ]
     },
     "execution_count": 5,
     "metadata": {},
     "output_type": "execute_result"
    }
   ],
   "source": [
    "len(l)"
   ]
  },
  {
   "cell_type": "code",
   "execution_count": null,
   "id": "9af04bab",
   "metadata": {},
   "outputs": [],
   "source": []
  },
  {
   "cell_type": "markdown",
   "id": "234b82df",
   "metadata": {},
   "source": [
    "# Comprehension Operation in List"
   ]
  },
  {
   "cell_type": "code",
   "execution_count": 13,
   "id": "cde27d35",
   "metadata": {},
   "outputs": [
    {
     "data": {
      "text/plain": [
       "[True, 4.5, 'Ritika', 'Vaibhav', 'Tejas', 'Namdev', 4, 3]"
      ]
     },
     "execution_count": 13,
     "metadata": {},
     "output_type": "execute_result"
    }
   ],
   "source": [
    "# Reverse the list\n",
    "# Ritika's Ans\n",
    "l[45:0:-1]"
   ]
  },
  {
   "cell_type": "code",
   "execution_count": 12,
   "id": "5a2c88a0",
   "metadata": {},
   "outputs": [
    {
     "data": {
      "text/plain": [
       "[2, 3, 4, 'Namdev', 'Tejas', 'Vaibhav', 'Ritika', 4.5, True]"
      ]
     },
     "execution_count": 12,
     "metadata": {},
     "output_type": "execute_result"
    }
   ],
   "source": [
    "l"
   ]
  },
  {
   "cell_type": "code",
   "execution_count": 14,
   "id": "f67f45fa",
   "metadata": {},
   "outputs": [
    {
     "data": {
      "text/plain": [
       "[True, 4.5, 'Ritika', 'Vaibhav', 'Tejas', 'Namdev', 4, 3]"
      ]
     },
     "execution_count": 14,
     "metadata": {},
     "output_type": "execute_result"
    }
   ],
   "source": [
    "# Vaibhav Ans\n",
    "l[-1:0:-1]"
   ]
  },
  {
   "cell_type": "code",
   "execution_count": 17,
   "id": "79b2ce76",
   "metadata": {},
   "outputs": [
    {
     "data": {
      "text/plain": [
       "[True, 4.5, 'Ritika', 'Vaibhav', 'Tejas', 'Namdev', 4, 3, 2]"
      ]
     },
     "execution_count": 17,
     "metadata": {},
     "output_type": "execute_result"
    }
   ],
   "source": [
    "# Correct Ans\n",
    "l[: :-1]"
   ]
  },
  {
   "cell_type": "code",
   "execution_count": 18,
   "id": "eeefed51",
   "metadata": {},
   "outputs": [
    {
     "data": {
      "text/plain": [
       "[True, 4.5, 'Ritika', 'Vaibhav', 'Tejas', 'Namdev', 4, 3]"
      ]
     },
     "execution_count": 18,
     "metadata": {},
     "output_type": "execute_result"
    }
   ],
   "source": [
    "# Tejas Ans\n",
    "l[45:0:-1]"
   ]
  },
  {
   "cell_type": "code",
   "execution_count": 20,
   "id": "a4fddeb5",
   "metadata": {},
   "outputs": [
    {
     "data": {
      "text/plain": [
       "[2, 4, 'Tejas', 'Ritika', True]"
      ]
     },
     "execution_count": 20,
     "metadata": {},
     "output_type": "execute_result"
    }
   ],
   "source": [
    "l[0:100:2]"
   ]
  },
  {
   "cell_type": "code",
   "execution_count": 19,
   "id": "d3e3c5cd",
   "metadata": {},
   "outputs": [
    {
     "data": {
      "text/plain": [
       "[2, 3, 4, 'Namdev', 'Tejas', 'Vaibhav', 'Ritika', 4.5, True]"
      ]
     },
     "execution_count": 19,
     "metadata": {},
     "output_type": "execute_result"
    }
   ],
   "source": [
    "l"
   ]
  },
  {
   "cell_type": "code",
   "execution_count": 21,
   "id": "1eaa9722",
   "metadata": {},
   "outputs": [],
   "source": [
    "# Add \"Madhu\" at last.\n",
    "\n"
   ]
  },
  {
   "cell_type": "code",
   "execution_count": 22,
   "id": "209e4800",
   "metadata": {},
   "outputs": [],
   "source": [
    "# Namdev's Ans\n",
    "l= [2,3,4, \"namdev\", \"Tejas\", \"vaibhav\", \"Ritika\", 4.5, True,\"Madhu\"]"
   ]
  },
  {
   "cell_type": "code",
   "execution_count": 23,
   "id": "1da462ef",
   "metadata": {},
   "outputs": [],
   "source": [
    "# Vaibhav's Ans\n",
    "l.append('madhu')\n"
   ]
  },
  {
   "cell_type": "code",
   "execution_count": 24,
   "id": "1b330aa5",
   "metadata": {},
   "outputs": [
    {
     "data": {
      "text/plain": [
       "[2, 3, 4, 'namdev', 'Tejas', 'vaibhav', 'Ritika', 4.5, True, 'Madhu', 'madhu']"
      ]
     },
     "execution_count": 24,
     "metadata": {},
     "output_type": "execute_result"
    }
   ],
   "source": [
    "l"
   ]
  },
  {
   "cell_type": "code",
   "execution_count": 29,
   "id": "19915f36",
   "metadata": {},
   "outputs": [
    {
     "data": {
      "text/plain": [
       "[2,\n",
       " 3,\n",
       " 4,\n",
       " 'namdev',\n",
       " 'Tejas',\n",
       " 'vaibhav',\n",
       " 'Ritika',\n",
       " 4.5,\n",
       " True,\n",
       " 'Madhu',\n",
       " 'madhu',\n",
       " 'm',\n",
       " 'a',\n",
       " 'd',\n",
       " 'h',\n",
       " 'u',\n",
       " 'p',\n",
       " 'r',\n",
       " 'i',\n",
       " 'y',\n",
       " 'a']"
      ]
     },
     "execution_count": 29,
     "metadata": {},
     "output_type": "execute_result"
    }
   ],
   "source": [
    "l+list('madhupriya')"
   ]
  },
  {
   "cell_type": "code",
   "execution_count": 27,
   "id": "f14f6113",
   "metadata": {},
   "outputs": [
    {
     "ename": "TypeError",
     "evalue": "can only concatenate list (not \"str\") to list",
     "output_type": "error",
     "traceback": [
      "\u001b[0;31m---------------------------------------------------------------------------\u001b[0m",
      "\u001b[0;31mTypeError\u001b[0m                                 Traceback (most recent call last)",
      "Input \u001b[0;32mIn [27]\u001b[0m, in \u001b[0;36m<cell line: 2>\u001b[0;34m()\u001b[0m\n\u001b[1;32m      1\u001b[0m \u001b[38;5;66;03m# Tejas Ans\u001b[39;00m\n\u001b[0;32m----> 2\u001b[0m \u001b[43ml\u001b[49m\u001b[38;5;241;43m+\u001b[39;49m\u001b[38;5;28;43mstr\u001b[39;49m\u001b[43m(\u001b[49m\u001b[38;5;124;43m'\u001b[39;49m\u001b[38;5;124;43mmadhu\u001b[39;49m\u001b[38;5;124;43m'\u001b[39;49m\u001b[43m)\u001b[49m\n",
      "\u001b[0;31mTypeError\u001b[0m: can only concatenate list (not \"str\") to list"
     ]
    }
   ],
   "source": [
    "# Tejas Ans\n",
    "l+str('madhu')"
   ]
  },
  {
   "cell_type": "code",
   "execution_count": 28,
   "id": "0516cdc5",
   "metadata": {},
   "outputs": [
    {
     "ename": "SyntaxError",
     "evalue": "invalid syntax (1799799662.py, line 2)",
     "output_type": "error",
     "traceback": [
      "\u001b[0;36m  Input \u001b[0;32mIn [28]\u001b[0;36m\u001b[0m\n\u001b[0;31m    l1=str('madhu')l1+l\u001b[0m\n\u001b[0m                   ^\u001b[0m\n\u001b[0;31mSyntaxError\u001b[0m\u001b[0;31m:\u001b[0m invalid syntax\n"
     ]
    }
   ],
   "source": [
    "# Ritika's Ans\n",
    "l1=str('madhu')l1+l"
   ]
  },
  {
   "cell_type": "code",
   "execution_count": 37,
   "id": "9b4cec2b",
   "metadata": {},
   "outputs": [
    {
     "data": {
      "text/plain": [
       "[2,\n",
       " 3,\n",
       " 4,\n",
       " 'namdev',\n",
       " 'Tejas',\n",
       " 'vaibhav',\n",
       " 'Ritika',\n",
       " 4.5,\n",
       " True,\n",
       " 'Madhu',\n",
       " 'madhu',\n",
       " 'Madhu']"
      ]
     },
     "execution_count": 37,
     "metadata": {},
     "output_type": "execute_result"
    }
   ],
   "source": [
    "# Correct Ans\n",
    "l+[\"Madhu\"]"
   ]
  },
  {
   "cell_type": "code",
   "execution_count": 33,
   "id": "b9bdb9d2",
   "metadata": {},
   "outputs": [],
   "source": [
    "a = [\"Madhu\"]"
   ]
  },
  {
   "cell_type": "code",
   "execution_count": 34,
   "id": "22bdf239",
   "metadata": {},
   "outputs": [
    {
     "data": {
      "text/plain": [
       "list"
      ]
     },
     "execution_count": 34,
     "metadata": {},
     "output_type": "execute_result"
    }
   ],
   "source": [
    "type(a)"
   ]
  },
  {
   "cell_type": "code",
   "execution_count": 35,
   "id": "0394bf7d",
   "metadata": {},
   "outputs": [
    {
     "data": {
      "text/plain": [
       "[2,\n",
       " 3,\n",
       " 4,\n",
       " 'namdev',\n",
       " 'Tejas',\n",
       " 'vaibhav',\n",
       " 'Ritika',\n",
       " 4.5,\n",
       " True,\n",
       " 'Madhu',\n",
       " 'madhu',\n",
       " 'Madhu']"
      ]
     },
     "execution_count": 35,
     "metadata": {},
     "output_type": "execute_result"
    }
   ],
   "source": [
    "l+a"
   ]
  },
  {
   "cell_type": "code",
   "execution_count": 36,
   "id": "35799029",
   "metadata": {},
   "outputs": [
    {
     "data": {
      "text/plain": [
       "[2, 3, 4, 'namdev', 'Tejas', 'vaibhav', 'Ritika', 4.5, True, 'Madhu', 'madhu']"
      ]
     },
     "execution_count": 36,
     "metadata": {},
     "output_type": "execute_result"
    }
   ],
   "source": [
    "l"
   ]
  },
  {
   "cell_type": "markdown",
   "id": "e6665b20",
   "metadata": {},
   "source": [
    "Q. Print the value of list 2 times.\n"
   ]
  },
  {
   "cell_type": "code",
   "execution_count": 44,
   "id": "5ffccdf9",
   "metadata": {},
   "outputs": [
    {
     "name": "stdout",
     "output_type": "stream",
     "text": [
      "[2, 3, 4, 'namdev', 'Tejas', 'vaibhav', 'Ritika', 4.5, True, 'Madhu', 'madhu', 'madhu']\n",
      "[2, 3, 4, 'namdev', 'Tejas', 'vaibhav', 'Ritika', 4.5, True, 'Madhu', 'madhu', 'madhu']\n"
     ]
    }
   ],
   "source": [
    "# Ritika's ans\n",
    "l1=['madhu']\n",
    "l+l1\n",
    "print(l+l1)\n",
    "print(l+l1)"
   ]
  },
  {
   "cell_type": "code",
   "execution_count": 40,
   "id": "2ae58fed",
   "metadata": {},
   "outputs": [
    {
     "data": {
      "text/plain": [
       "[2,\n",
       " 3,\n",
       " 4,\n",
       " 'namdev',\n",
       " 'Tejas',\n",
       " 'vaibhav',\n",
       " 'Ritika',\n",
       " 4.5,\n",
       " True,\n",
       " 'Madhu',\n",
       " 'madhu',\n",
       " 2,\n",
       " 3,\n",
       " 4,\n",
       " 'namdev',\n",
       " 'Tejas',\n",
       " 'vaibhav',\n",
       " 'Ritika',\n",
       " 4.5,\n",
       " True,\n",
       " 'Madhu',\n",
       " 'madhu']"
      ]
     },
     "execution_count": 40,
     "metadata": {},
     "output_type": "execute_result"
    }
   ],
   "source": [
    "# Tejas Ans. ---> Concatenate\n",
    "l+l"
   ]
  },
  {
   "cell_type": "code",
   "execution_count": 41,
   "id": "97d50d68",
   "metadata": {},
   "outputs": [
    {
     "data": {
      "text/plain": [
       "[2,\n",
       " 3,\n",
       " 4,\n",
       " 'namdev',\n",
       " 'Tejas',\n",
       " 'vaibhav',\n",
       " 'Ritika',\n",
       " 4.5,\n",
       " True,\n",
       " 'Madhu',\n",
       " 'madhu',\n",
       " 2,\n",
       " 3,\n",
       " 4,\n",
       " 'namdev',\n",
       " 'Tejas',\n",
       " 'vaibhav',\n",
       " 'Ritika',\n",
       " 4.5,\n",
       " True,\n",
       " 'Madhu',\n",
       " 'madhu']"
      ]
     },
     "execution_count": 41,
     "metadata": {},
     "output_type": "execute_result"
    }
   ],
   "source": [
    "# Vaibav's Ans ---> Concatenate\n",
    "l*2"
   ]
  },
  {
   "cell_type": "code",
   "execution_count": 45,
   "id": "bf805f4f",
   "metadata": {},
   "outputs": [
    {
     "data": {
      "text/plain": [
       "[2, 3, 4, 'namdev', 'Tejas', 'vaibhav', 'Ritika', 4.5, True, 'Madhu', 'madhu']"
      ]
     },
     "execution_count": 45,
     "metadata": {},
     "output_type": "execute_result"
    }
   ],
   "source": [
    "# Q. Check whether 30 is there in list or not?\n",
    "l"
   ]
  },
  {
   "cell_type": "code",
   "execution_count": 46,
   "id": "e834c299",
   "metadata": {},
   "outputs": [
    {
     "data": {
      "text/plain": [
       "False"
      ]
     },
     "execution_count": 46,
     "metadata": {},
     "output_type": "execute_result"
    }
   ],
   "source": [
    "30 in l"
   ]
  },
  {
   "cell_type": "code",
   "execution_count": 47,
   "id": "95048052",
   "metadata": {},
   "outputs": [
    {
     "data": {
      "text/plain": [
       "True"
      ]
     },
     "execution_count": 47,
     "metadata": {},
     "output_type": "execute_result"
    }
   ],
   "source": [
    "\"Ritika\" in l"
   ]
  },
  {
   "cell_type": "code",
   "execution_count": 48,
   "id": "0d0aed83",
   "metadata": {},
   "outputs": [
    {
     "data": {
      "text/plain": [
       "True"
      ]
     },
     "execution_count": 48,
     "metadata": {},
     "output_type": "execute_result"
    }
   ],
   "source": [
    "'vaibhav' in l"
   ]
  },
  {
   "cell_type": "code",
   "execution_count": 49,
   "id": "f80333ae",
   "metadata": {},
   "outputs": [
    {
     "data": {
      "text/plain": [
       "True"
      ]
     },
     "execution_count": 49,
     "metadata": {},
     "output_type": "execute_result"
    }
   ],
   "source": [
    "'namdev' in l"
   ]
  },
  {
   "cell_type": "code",
   "execution_count": 50,
   "id": "58eb97f1",
   "metadata": {},
   "outputs": [
    {
     "data": {
      "text/plain": [
       "True"
      ]
     },
     "execution_count": 50,
     "metadata": {},
     "output_type": "execute_result"
    }
   ],
   "source": [
    "'Tejas' in l"
   ]
  },
  {
   "cell_type": "code",
   "execution_count": 51,
   "id": "b50411bf",
   "metadata": {},
   "outputs": [],
   "source": [
    "# Q. Find the Maximum in l"
   ]
  },
  {
   "cell_type": "code",
   "execution_count": 52,
   "id": "cc75473e",
   "metadata": {},
   "outputs": [
    {
     "data": {
      "text/plain": [
       "False"
      ]
     },
     "execution_count": 52,
     "metadata": {},
     "output_type": "execute_result"
    }
   ],
   "source": [
    "# Tejas's Ans\n",
    "'maximum' in l"
   ]
  },
  {
   "cell_type": "markdown",
   "id": "3f443f3e",
   "metadata": {},
   "source": [
    "l1 = [45,23,78,90,12,57,28]"
   ]
  },
  {
   "cell_type": "code",
   "execution_count": 56,
   "id": "13f47323",
   "metadata": {},
   "outputs": [],
   "source": [
    "l1 = [45,23,78,90,12,57,28]"
   ]
  },
  {
   "cell_type": "code",
   "execution_count": 57,
   "id": "991a1502",
   "metadata": {},
   "outputs": [
    {
     "data": {
      "text/plain": [
       "90"
      ]
     },
     "execution_count": 57,
     "metadata": {},
     "output_type": "execute_result"
    }
   ],
   "source": [
    "max(l1)\n"
   ]
  },
  {
   "cell_type": "code",
   "execution_count": 60,
   "id": "e16f5a26",
   "metadata": {},
   "outputs": [],
   "source": [
    "l2 = ['Namdev', 'Tejas', 'vaibhav', 'Ritika']"
   ]
  },
  {
   "cell_type": "code",
   "execution_count": 61,
   "id": "d1d3c3be",
   "metadata": {},
   "outputs": [
    {
     "data": {
      "text/plain": [
       "'vaibhav'"
      ]
     },
     "execution_count": 61,
     "metadata": {},
     "output_type": "execute_result"
    }
   ],
   "source": [
    "max(l2)"
   ]
  },
  {
   "cell_type": "code",
   "execution_count": 62,
   "id": "9cedaf5f",
   "metadata": {},
   "outputs": [
    {
     "data": {
      "text/plain": [
       "'Namdev'"
      ]
     },
     "execution_count": 62,
     "metadata": {},
     "output_type": "execute_result"
    }
   ],
   "source": [
    "min(l2)"
   ]
  },
  {
   "cell_type": "code",
   "execution_count": 74,
   "id": "83c27568",
   "metadata": {},
   "outputs": [],
   "source": [
    "# Q. Add your surname with your First name\n",
    "l2[3] = l2[3]+' Rangrej'"
   ]
  },
  {
   "cell_type": "code",
   "execution_count": 75,
   "id": "611b98f8",
   "metadata": {},
   "outputs": [],
   "source": [
    "l2[1] = l2[1]+ \" Kumbhar\""
   ]
  },
  {
   "cell_type": "code",
   "execution_count": 76,
   "id": "1454d660",
   "metadata": {},
   "outputs": [
    {
     "data": {
      "text/plain": [
       "['Namdev', 'Tejas Kumbhar Kumbhar', 'vaibhav', 'RitikaRangrej Rangrej']"
      ]
     },
     "execution_count": 76,
     "metadata": {},
     "output_type": "execute_result"
    }
   ],
   "source": [
    "l2"
   ]
  },
  {
   "cell_type": "code",
   "execution_count": 77,
   "id": "2c02a38a",
   "metadata": {},
   "outputs": [
    {
     "data": {
      "text/plain": [
       "[2, 3, 4, 'namdev', 'Tejas', 'vaibhav', 'Ritika', 4.5, True, 'Madhu', 'madhu']"
      ]
     },
     "execution_count": 77,
     "metadata": {},
     "output_type": "execute_result"
    }
   ],
   "source": [
    "l"
   ]
  },
  {
   "cell_type": "code",
   "execution_count": 78,
   "id": "e054c739",
   "metadata": {},
   "outputs": [],
   "source": [
    "l2[2]=l2[2]+\" Waghmare\""
   ]
  },
  {
   "cell_type": "code",
   "execution_count": 79,
   "id": "bf7090f9",
   "metadata": {},
   "outputs": [
    {
     "data": {
      "text/plain": [
       "['Namdev',\n",
       " 'Tejas Kumbhar Kumbhar',\n",
       " 'vaibhav Waghmare',\n",
       " 'RitikaRangrej Rangrej']"
      ]
     },
     "execution_count": 79,
     "metadata": {},
     "output_type": "execute_result"
    }
   ],
   "source": [
    "l2"
   ]
  },
  {
   "cell_type": "code",
   "execution_count": 80,
   "id": "cf8ed4ce",
   "metadata": {},
   "outputs": [],
   "source": [
    "# Q. remove the last element from l."
   ]
  },
  {
   "cell_type": "code",
   "execution_count": 81,
   "id": "c071f681",
   "metadata": {},
   "outputs": [
    {
     "data": {
      "text/plain": [
       "'madhu'"
      ]
     },
     "execution_count": 81,
     "metadata": {},
     "output_type": "execute_result"
    }
   ],
   "source": [
    "l.pop()"
   ]
  },
  {
   "cell_type": "code",
   "execution_count": 82,
   "id": "d869c432",
   "metadata": {},
   "outputs": [
    {
     "data": {
      "text/plain": [
       "[2, 3, 4, 'namdev', 'Tejas', 'vaibhav', 'Ritika', 4.5, True, 'Madhu']"
      ]
     },
     "execution_count": 82,
     "metadata": {},
     "output_type": "execute_result"
    }
   ],
   "source": [
    "l"
   ]
  },
  {
   "cell_type": "code",
   "execution_count": 83,
   "id": "7fee1ef0",
   "metadata": {},
   "outputs": [
    {
     "data": {
      "text/plain": [
       "['Namdev',\n",
       " 'Tejas Kumbhar Kumbhar',\n",
       " 'vaibhav Waghmare',\n",
       " 'RitikaRangrej Rangrej']"
      ]
     },
     "execution_count": 83,
     "metadata": {},
     "output_type": "execute_result"
    }
   ],
   "source": [
    "l2"
   ]
  },
  {
   "cell_type": "code",
   "execution_count": 84,
   "id": "1b824d04",
   "metadata": {},
   "outputs": [
    {
     "data": {
      "text/plain": [
       "'vaibhav Waghmare'"
      ]
     },
     "execution_count": 84,
     "metadata": {},
     "output_type": "execute_result"
    }
   ],
   "source": [
    "l2.pop(2)"
   ]
  },
  {
   "cell_type": "code",
   "execution_count": 85,
   "id": "a94e52f1",
   "metadata": {},
   "outputs": [
    {
     "data": {
      "text/plain": [
       "['Namdev', 'Tejas Kumbhar Kumbhar', 'RitikaRangrej Rangrej']"
      ]
     },
     "execution_count": 85,
     "metadata": {},
     "output_type": "execute_result"
    }
   ],
   "source": [
    "l2"
   ]
  },
  {
   "cell_type": "code",
   "execution_count": 86,
   "id": "f01b95f3",
   "metadata": {},
   "outputs": [
    {
     "data": {
      "text/plain": [
       "'Tejas Kumbhar Kumbhar'"
      ]
     },
     "execution_count": 86,
     "metadata": {},
     "output_type": "execute_result"
    }
   ],
   "source": [
    "l2.pop(1)"
   ]
  },
  {
   "cell_type": "code",
   "execution_count": 87,
   "id": "b915cd9b",
   "metadata": {},
   "outputs": [
    {
     "data": {
      "text/plain": [
       "['Namdev', 'RitikaRangrej Rangrej']"
      ]
     },
     "execution_count": 87,
     "metadata": {},
     "output_type": "execute_result"
    }
   ],
   "source": [
    "l2"
   ]
  },
  {
   "cell_type": "code",
   "execution_count": 90,
   "id": "95f4b46f",
   "metadata": {},
   "outputs": [
    {
     "data": {
      "text/plain": [
       "'RitikaRangrej Rangrej'"
      ]
     },
     "execution_count": 90,
     "metadata": {},
     "output_type": "execute_result"
    }
   ],
   "source": [
    "l2.pop(1)"
   ]
  },
  {
   "cell_type": "code",
   "execution_count": 91,
   "id": "6bc0d116",
   "metadata": {},
   "outputs": [
    {
     "data": {
      "text/plain": [
       "['Namdev']"
      ]
     },
     "execution_count": 91,
     "metadata": {},
     "output_type": "execute_result"
    }
   ],
   "source": [
    "l2"
   ]
  },
  {
   "cell_type": "code",
   "execution_count": 92,
   "id": "103e6152",
   "metadata": {},
   "outputs": [
    {
     "data": {
      "text/plain": [
       "'Namdev'"
      ]
     },
     "execution_count": 92,
     "metadata": {},
     "output_type": "execute_result"
    }
   ],
   "source": [
    "l2.pop(0)"
   ]
  },
  {
   "cell_type": "code",
   "execution_count": 93,
   "id": "c9259dfb",
   "metadata": {},
   "outputs": [
    {
     "data": {
      "text/plain": [
       "[]"
      ]
     },
     "execution_count": 93,
     "metadata": {},
     "output_type": "execute_result"
    }
   ],
   "source": [
    "l2"
   ]
  },
  {
   "cell_type": "code",
   "execution_count": 120,
   "id": "2441dcc2",
   "metadata": {},
   "outputs": [],
   "source": [
    "l1 = [28, 57, 12, 90, 78, 23, 45, [4, 5, 6, 7]]"
   ]
  },
  {
   "cell_type": "code",
   "execution_count": 121,
   "id": "cb870112",
   "metadata": {},
   "outputs": [
    {
     "data": {
      "text/plain": [
       "[[4, 5, 6, 7], 45, 23, 78, 90, 12, 57, 28]"
      ]
     },
     "execution_count": 121,
     "metadata": {},
     "output_type": "execute_result"
    }
   ],
   "source": [
    "l1[::-1]"
   ]
  },
  {
   "cell_type": "code",
   "execution_count": 122,
   "id": "135d6ed8",
   "metadata": {},
   "outputs": [],
   "source": [
    "l1.reverse()"
   ]
  },
  {
   "cell_type": "code",
   "execution_count": 123,
   "id": "8176a573",
   "metadata": {},
   "outputs": [
    {
     "data": {
      "text/plain": [
       "[[4, 5, 6, 7], 45, 23, 78, 90, 12, 57, 28]"
      ]
     },
     "execution_count": 123,
     "metadata": {},
     "output_type": "execute_result"
    }
   ],
   "source": [
    "l1"
   ]
  },
  {
   "cell_type": "code",
   "execution_count": 124,
   "id": "dfdce1c6",
   "metadata": {},
   "outputs": [],
   "source": [
    "l3 = [4,5,6,7]"
   ]
  },
  {
   "cell_type": "code",
   "execution_count": 125,
   "id": "f7d66625",
   "metadata": {},
   "outputs": [],
   "source": [
    "l1.append(l3)"
   ]
  },
  {
   "cell_type": "code",
   "execution_count": 126,
   "id": "1b23bd4a",
   "metadata": {},
   "outputs": [
    {
     "data": {
      "text/plain": [
       "[[4, 5, 6, 7], 45, 23, 78, 90, 12, 57, 28, [4, 5, 6, 7]]"
      ]
     },
     "execution_count": 126,
     "metadata": {},
     "output_type": "execute_result"
    }
   ],
   "source": [
    "l1"
   ]
  },
  {
   "cell_type": "code",
   "execution_count": 127,
   "id": "08628eda",
   "metadata": {},
   "outputs": [
    {
     "data": {
      "text/plain": [
       "[[4, 5, 6, 7], 45, 23, 78, 90, 12, 57, [4, 5, 6, 7], 8, 9, 0]"
      ]
     },
     "execution_count": 127,
     "metadata": {},
     "output_type": "execute_result"
    }
   ],
   "source": [
    "# Ritika Mca, [04-Mar-2024 at 5:00:18 PM]:\n",
    "l1.pop(7)\n",
    "\n",
    "l2=[8,9,0]\n",
    "l1+l2"
   ]
  },
  {
   "cell_type": "code",
   "execution_count": 130,
   "id": "961d4c62",
   "metadata": {},
   "outputs": [],
   "source": [
    "l1 = [2,3,4]\n",
    "l2 = [5,6,7]\n",
    "l3 = [12,45,23]\n",
    "\n"
   ]
  },
  {
   "cell_type": "code",
   "execution_count": 131,
   "id": "8368c510",
   "metadata": {},
   "outputs": [],
   "source": [
    "l4 = [l1, l2, l3]"
   ]
  },
  {
   "cell_type": "markdown",
   "id": "edfd68ab",
   "metadata": {},
   "source": [
    "#### "
   ]
  },
  {
   "cell_type": "code",
   "execution_count": 135,
   "id": "659caf08",
   "metadata": {},
   "outputs": [
    {
     "data": {
      "text/plain": [
       "[[2, 3, 4], [5, 6, 7], [12, 45, 23]]"
      ]
     },
     "execution_count": 135,
     "metadata": {},
     "output_type": "execute_result"
    }
   ],
   "source": [
    "l4"
   ]
  },
  {
   "cell_type": "code",
   "execution_count": 137,
   "id": "6b7cd79e",
   "metadata": {},
   "outputs": [
    {
     "data": {
      "text/plain": [
       "12"
      ]
     },
     "execution_count": 137,
     "metadata": {},
     "output_type": "execute_result"
    }
   ],
   "source": [
    "# Ritika\n",
    "l4[2][0]"
   ]
  },
  {
   "cell_type": "code",
   "execution_count": 138,
   "id": "f1b414ed",
   "metadata": {},
   "outputs": [
    {
     "data": {
      "text/plain": [
       "45"
      ]
     },
     "execution_count": 138,
     "metadata": {},
     "output_type": "execute_result"
    }
   ],
   "source": [
    "# Vaibhav\n",
    "l4[2][1]"
   ]
  },
  {
   "cell_type": "code",
   "execution_count": 140,
   "id": "360fe02a",
   "metadata": {},
   "outputs": [
    {
     "data": {
      "text/plain": [
       "45"
      ]
     },
     "execution_count": 140,
     "metadata": {},
     "output_type": "execute_result"
    }
   ],
   "source": [
    "# Tejas\n",
    "l4[2][1]"
   ]
  },
  {
   "cell_type": "code",
   "execution_count": null,
   "id": "411b0a36",
   "metadata": {},
   "outputs": [],
   "source": []
  }
 ],
 "metadata": {
  "kernelspec": {
   "display_name": "Python 3 (ipykernel)",
   "language": "python",
   "name": "python3"
  },
  "language_info": {
   "codemirror_mode": {
    "name": "ipython",
    "version": 3
   },
   "file_extension": ".py",
   "mimetype": "text/x-python",
   "name": "python",
   "nbconvert_exporter": "python",
   "pygments_lexer": "ipython3",
   "version": "3.9.12"
  }
 },
 "nbformat": 4,
 "nbformat_minor": 5
}
