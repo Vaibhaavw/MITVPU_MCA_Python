{
 "cells": [
  {
   "cell_type": "code",
   "execution_count": 1,
   "id": "2b2d5eb5",
   "metadata": {},
   "outputs": [],
   "source": [
    "s = \"we are learning Python\""
   ]
  },
  {
   "cell_type": "code",
   "execution_count": 2,
   "id": "cd701a87",
   "metadata": {},
   "outputs": [
    {
     "data": {
      "text/plain": [
       "'we are learning Python'"
      ]
     },
     "execution_count": 2,
     "metadata": {},
     "output_type": "execute_result"
    }
   ],
   "source": [
    "s"
   ]
  },
  {
   "cell_type": "code",
   "execution_count": 3,
   "id": "bb35ffad",
   "metadata": {},
   "outputs": [
    {
     "data": {
      "text/plain": [
       "'n'"
      ]
     },
     "execution_count": 3,
     "metadata": {},
     "output_type": "execute_result"
    }
   ],
   "source": [
    "s[-1]"
   ]
  },
  {
   "cell_type": "markdown",
   "id": "76317ac7",
   "metadata": {},
   "source": [
    "# Comprehension Operation"
   ]
  },
  {
   "cell_type": "code",
   "execution_count": 4,
   "id": "de5b60b5",
   "metadata": {},
   "outputs": [
    {
     "data": {
      "text/plain": [
       "' Pyth'"
      ]
     },
     "execution_count": 4,
     "metadata": {},
     "output_type": "execute_result"
    }
   ],
   "source": [
    "s[-7:-2:-1]"
   ]
  },
  {
   "cell_type": "code",
   "execution_count": 5,
   "id": "af328ce9",
   "metadata": {},
   "outputs": [
    {
     "data": {
      "text/plain": [
       "'we are learning Python'"
      ]
     },
     "execution_count": 5,
     "metadata": {},
     "output_type": "execute_result"
    }
   ],
   "source": [
    "s"
   ]
  },
  {
   "cell_type": "code",
   "execution_count": 6,
   "id": "6888db14",
   "metadata": {},
   "outputs": [
    {
     "ename": "TypeError",
     "evalue": "can only concatenate str (not \"int\") to str",
     "output_type": "error",
     "traceback": [
      "\u001b[0;31m---------------------------------------------------------------------------\u001b[0m",
      "\u001b[0;31mTypeError\u001b[0m                                 Traceback (most recent call last)",
      "Input \u001b[0;32mIn [6]\u001b[0m, in \u001b[0;36m<cell line: 1>\u001b[0;34m()\u001b[0m\n\u001b[0;32m----> 1\u001b[0m \u001b[43ms\u001b[49m\u001b[38;5;241;43m+\u001b[39;49m\u001b[38;5;241;43m1\u001b[39;49m\n",
      "\u001b[0;31mTypeError\u001b[0m: can only concatenate str (not \"int\") to str"
     ]
    }
   ],
   "source": [
    "s+1"
   ]
  },
  {
   "cell_type": "code",
   "execution_count": 9,
   "id": "da01213b",
   "metadata": {},
   "outputs": [],
   "source": [
    "s1 = s+'1'"
   ]
  },
  {
   "cell_type": "code",
   "execution_count": 10,
   "id": "b661ea0e",
   "metadata": {},
   "outputs": [
    {
     "data": {
      "text/plain": [
       "'we are learning Python1'"
      ]
     },
     "execution_count": 10,
     "metadata": {},
     "output_type": "execute_result"
    }
   ],
   "source": [
    "s1"
   ]
  },
  {
   "cell_type": "code",
   "execution_count": 11,
   "id": "fd768455",
   "metadata": {},
   "outputs": [],
   "source": [
    "s = s1"
   ]
  },
  {
   "cell_type": "code",
   "execution_count": 12,
   "id": "d936f508",
   "metadata": {},
   "outputs": [
    {
     "data": {
      "text/plain": [
       "'we are learning Python1'"
      ]
     },
     "execution_count": 12,
     "metadata": {},
     "output_type": "execute_result"
    }
   ],
   "source": [
    "s"
   ]
  },
  {
   "cell_type": "code",
   "execution_count": 13,
   "id": "49f3ec2d",
   "metadata": {},
   "outputs": [],
   "source": [
    "s = 'we are learning Python123'"
   ]
  },
  {
   "cell_type": "code",
   "execution_count": 14,
   "id": "0eeb0012",
   "metadata": {},
   "outputs": [
    {
     "data": {
      "text/plain": [
       "'we are learning Python123'"
      ]
     },
     "execution_count": 14,
     "metadata": {},
     "output_type": "execute_result"
    }
   ],
   "source": [
    "s"
   ]
  },
  {
   "cell_type": "code",
   "execution_count": 15,
   "id": "cb8ec69f",
   "metadata": {},
   "outputs": [
    {
     "data": {
      "text/plain": [
       "'we are learning Python1'"
      ]
     },
     "execution_count": 15,
     "metadata": {},
     "output_type": "execute_result"
    }
   ],
   "source": [
    "s1"
   ]
  },
  {
   "cell_type": "code",
   "execution_count": 18,
   "id": "019250f9",
   "metadata": {},
   "outputs": [
    {
     "data": {
      "text/plain": [
       "'we are learning Python134634'"
      ]
     },
     "execution_count": 18,
     "metadata": {},
     "output_type": "execute_result"
    }
   ],
   "source": [
    "s1+str(34634)"
   ]
  },
  {
   "cell_type": "code",
   "execution_count": 17,
   "id": "55bcf643",
   "metadata": {},
   "outputs": [
    {
     "data": {
      "text/plain": [
       "'we are learning Python1'"
      ]
     },
     "execution_count": 17,
     "metadata": {},
     "output_type": "execute_result"
    }
   ],
   "source": [
    "s1"
   ]
  },
  {
   "cell_type": "code",
   "execution_count": 20,
   "id": "6633b2a7",
   "metadata": {},
   "outputs": [
    {
     "data": {
      "text/plain": [
       "23"
      ]
     },
     "execution_count": 20,
     "metadata": {},
     "output_type": "execute_result"
    }
   ],
   "source": [
    "len(s1)"
   ]
  },
  {
   "cell_type": "code",
   "execution_count": 38,
   "id": "d39ad2d5",
   "metadata": {},
   "outputs": [],
   "source": [
    "s2 = 'Madhu'"
   ]
  },
  {
   "cell_type": "code",
   "execution_count": 39,
   "id": "ac89310d",
   "metadata": {},
   "outputs": [
    {
     "data": {
      "text/plain": [
       "'MadhuMadhuMadhuMadhuMadhu'"
      ]
     },
     "execution_count": 39,
     "metadata": {},
     "output_type": "execute_result"
    }
   ],
   "source": [
    "s2*5"
   ]
  },
  {
   "cell_type": "code",
   "execution_count": 33,
   "id": "a325989b",
   "metadata": {},
   "outputs": [],
   "source": [
    "s2 = \"kldfnsdnb.kahrgoigfhdj\""
   ]
  },
  {
   "cell_type": "code",
   "execution_count": 40,
   "id": "34f9021f",
   "metadata": {},
   "outputs": [
    {
     "data": {
      "text/plain": [
       "5"
      ]
     },
     "execution_count": 40,
     "metadata": {},
     "output_type": "execute_result"
    }
   ],
   "source": [
    "(s2*5).count('Madhu')"
   ]
  },
  {
   "cell_type": "code",
   "execution_count": 42,
   "id": "b8f8e60a",
   "metadata": {},
   "outputs": [],
   "source": [
    "s3 = s2*5"
   ]
  },
  {
   "cell_type": "markdown",
   "id": "a8dd8d1f",
   "metadata": {},
   "source": [
    "### "
   ]
  },
  {
   "cell_type": "code",
   "execution_count": 43,
   "id": "beef99ab",
   "metadata": {},
   "outputs": [
    {
     "data": {
      "text/plain": [
       "'MadhuMadhuMadhuMadhuMadhu'"
      ]
     },
     "execution_count": 43,
     "metadata": {},
     "output_type": "execute_result"
    }
   ],
   "source": [
    "s3"
   ]
  },
  {
   "cell_type": "code",
   "execution_count": 45,
   "id": "a66f7bdd",
   "metadata": {},
   "outputs": [
    {
     "data": {
      "text/plain": [
       "['Mad', 'uMad', 'uMad', 'uMad', 'uMad', 'u']"
      ]
     },
     "execution_count": 45,
     "metadata": {},
     "output_type": "execute_result"
    }
   ],
   "source": [
    "s3.split('h')"
   ]
  },
  {
   "cell_type": "code",
   "execution_count": 46,
   "id": "a572aa6c",
   "metadata": {},
   "outputs": [
    {
     "data": {
      "text/plain": [
       "list"
      ]
     },
     "execution_count": 46,
     "metadata": {},
     "output_type": "execute_result"
    }
   ],
   "source": [
    "type(s3.split('h'))"
   ]
  },
  {
   "cell_type": "code",
   "execution_count": 49,
   "id": "bdeffddf",
   "metadata": {},
   "outputs": [],
   "source": [
    "s4 = \"Lorem Ipsum is simply dummy text of the printing and typesetting industry. Lorem Ipsum has been the industry's standard dummy text ever since the 1500s, when an unknown printer took a galley of type and scrambled it to make a type specimen book. It has survived not only five centuries, but also the leap into electronic typesetting, remaining essentially unchanged. It was popularised in the 1960s with the release of Letraset sheets containing Lorem Ipsum passages, and more recently with desktop publishing software like Aldus PageMaker including versions of Lorem Ipsum.\""
   ]
  },
  {
   "cell_type": "code",
   "execution_count": 50,
   "id": "3222248b",
   "metadata": {},
   "outputs": [
    {
     "data": {
      "text/plain": [
       "\"Lorem Ipsum is simply dummy text of the printing and typesetting industry. Lorem Ipsum has been the industry's standard dummy text ever since the 1500s, when an unknown printer took a galley of type and scrambled it to make a type specimen book. It has survived not only five centuries, but also the leap into electronic typesetting, remaining essentially unchanged. It was popularised in the 1960s with the release of Letraset sheets containing Lorem Ipsum passages, and more recently with desktop publishing software like Aldus PageMaker including versions of Lorem Ipsum.\""
      ]
     },
     "execution_count": 50,
     "metadata": {},
     "output_type": "execute_result"
    }
   ],
   "source": [
    "s4"
   ]
  },
  {
   "cell_type": "markdown",
   "id": "b951b1d4",
   "metadata": {},
   "source": [
    "### How many words are there in s4"
   ]
  },
  {
   "cell_type": "code",
   "execution_count": 51,
   "id": "bb60f683",
   "metadata": {},
   "outputs": [
    {
     "data": {
      "text/plain": [
       "['Lorem',\n",
       " 'Ipsum',\n",
       " 'is',\n",
       " 'simply',\n",
       " 'dummy',\n",
       " 'text',\n",
       " 'of',\n",
       " 'the',\n",
       " 'printing',\n",
       " 'and',\n",
       " 'typesetting',\n",
       " 'industry.',\n",
       " 'Lorem',\n",
       " 'Ipsum',\n",
       " 'has',\n",
       " 'been',\n",
       " 'the',\n",
       " \"industry's\",\n",
       " 'standard',\n",
       " 'dummy',\n",
       " 'text',\n",
       " 'ever',\n",
       " 'since',\n",
       " 'the',\n",
       " '1500s,',\n",
       " 'when',\n",
       " 'an',\n",
       " 'unknown',\n",
       " 'printer',\n",
       " 'took',\n",
       " 'a',\n",
       " 'galley',\n",
       " 'of',\n",
       " 'type',\n",
       " 'and',\n",
       " 'scrambled',\n",
       " 'it',\n",
       " 'to',\n",
       " 'make',\n",
       " 'a',\n",
       " 'type',\n",
       " 'specimen',\n",
       " 'book.',\n",
       " 'It',\n",
       " 'has',\n",
       " 'survived',\n",
       " 'not',\n",
       " 'only',\n",
       " 'five',\n",
       " 'centuries,',\n",
       " 'but',\n",
       " 'also',\n",
       " 'the',\n",
       " 'leap',\n",
       " 'into',\n",
       " 'electronic',\n",
       " 'typesetting,',\n",
       " 'remaining',\n",
       " 'essentially',\n",
       " 'unchanged.',\n",
       " 'It',\n",
       " 'was',\n",
       " 'popularised',\n",
       " 'in',\n",
       " 'the',\n",
       " '1960s',\n",
       " 'with',\n",
       " 'the',\n",
       " 'release',\n",
       " 'of',\n",
       " 'Letraset',\n",
       " 'sheets',\n",
       " 'containing',\n",
       " 'Lorem',\n",
       " 'Ipsum',\n",
       " 'passages,',\n",
       " 'and',\n",
       " 'more',\n",
       " 'recently',\n",
       " 'with',\n",
       " 'desktop',\n",
       " 'publishing',\n",
       " 'software',\n",
       " 'like',\n",
       " 'Aldus',\n",
       " 'PageMaker',\n",
       " 'including',\n",
       " 'versions',\n",
       " 'of',\n",
       " 'Lorem',\n",
       " 'Ipsum.']"
      ]
     },
     "execution_count": 51,
     "metadata": {},
     "output_type": "execute_result"
    }
   ],
   "source": [
    "s4.split(\" \")"
   ]
  },
  {
   "cell_type": "code",
   "execution_count": 52,
   "id": "d1d5973d",
   "metadata": {},
   "outputs": [
    {
     "data": {
      "text/plain": [
       "\"Lorem Ipsum is simply dummy text of the printing and typesetting industry. Lorem Ipsum has been the industry's standard dummy text ever since the 1500s, when an unknown printer took a galley of type and scrambled it to make a type specimen book. It has survived not only five centuries, but also the leap into electronic typesetting, remaining essentially unchanged. It was popularised in the 1960s with the release of Letraset sheets containing Lorem Ipsum passages, and more recently with desktop publishing software like Aldus PageMaker including versions of Lorem Ipsum.\""
      ]
     },
     "execution_count": 52,
     "metadata": {},
     "output_type": "execute_result"
    }
   ],
   "source": [
    "s4"
   ]
  },
  {
   "cell_type": "code",
   "execution_count": 53,
   "id": "86143dbe",
   "metadata": {},
   "outputs": [
    {
     "data": {
      "text/plain": [
       "574"
      ]
     },
     "execution_count": 53,
     "metadata": {},
     "output_type": "execute_result"
    }
   ],
   "source": [
    "len(s4)"
   ]
  },
  {
   "cell_type": "code",
   "execution_count": 54,
   "id": "3498206e",
   "metadata": {},
   "outputs": [
    {
     "data": {
      "text/plain": [
       "91"
      ]
     },
     "execution_count": 54,
     "metadata": {},
     "output_type": "execute_result"
    }
   ],
   "source": [
    "len(s4.split(\" \"))"
   ]
  },
  {
   "cell_type": "code",
   "execution_count": 56,
   "id": "1e0ce17a",
   "metadata": {},
   "outputs": [],
   "source": [
    "s4 = s4.upper()"
   ]
  },
  {
   "cell_type": "code",
   "execution_count": 57,
   "id": "ec057dc9",
   "metadata": {},
   "outputs": [
    {
     "data": {
      "text/plain": [
       "\"LOREM IPSUM IS SIMPLY DUMMY TEXT OF THE PRINTING AND TYPESETTING INDUSTRY. LOREM IPSUM HAS BEEN THE INDUSTRY'S STANDARD DUMMY TEXT EVER SINCE THE 1500S, WHEN AN UNKNOWN PRINTER TOOK A GALLEY OF TYPE AND SCRAMBLED IT TO MAKE A TYPE SPECIMEN BOOK. IT HAS SURVIVED NOT ONLY FIVE CENTURIES, BUT ALSO THE LEAP INTO ELECTRONIC TYPESETTING, REMAINING ESSENTIALLY UNCHANGED. IT WAS POPULARISED IN THE 1960S WITH THE RELEASE OF LETRASET SHEETS CONTAINING LOREM IPSUM PASSAGES, AND MORE RECENTLY WITH DESKTOP PUBLISHING SOFTWARE LIKE ALDUS PAGEMAKER INCLUDING VERSIONS OF LOREM IPSUM.\""
      ]
     },
     "execution_count": 57,
     "metadata": {},
     "output_type": "execute_result"
    }
   ],
   "source": [
    "s4"
   ]
  },
  {
   "cell_type": "code",
   "execution_count": 58,
   "id": "42c3bd98",
   "metadata": {},
   "outputs": [
    {
     "data": {
      "text/plain": [
       "\"lorem ipsum is simply dummy text of the printing and typesetting industry. lorem ipsum has been the industry's standard dummy text ever since the 1500s, when an unknown printer took a galley of type and scrambled it to make a type specimen book. it has survived not only five centuries, but also the leap into electronic typesetting, remaining essentially unchanged. it was popularised in the 1960s with the release of letraset sheets containing lorem ipsum passages, and more recently with desktop publishing software like aldus pagemaker including versions of lorem ipsum.\""
      ]
     },
     "execution_count": 58,
     "metadata": {},
     "output_type": "execute_result"
    }
   ],
   "source": [
    "s4.lower()"
   ]
  },
  {
   "cell_type": "code",
   "execution_count": 61,
   "id": "889ef8aa",
   "metadata": {},
   "outputs": [],
   "source": [
    "s5 = \"ritika rangrej\""
   ]
  },
  {
   "cell_type": "code",
   "execution_count": 62,
   "id": "f5dbc1a5",
   "metadata": {},
   "outputs": [
    {
     "data": {
      "text/plain": [
       "'Ritika Rangrej'"
      ]
     },
     "execution_count": 62,
     "metadata": {},
     "output_type": "execute_result"
    }
   ],
   "source": [
    "s5.title()"
   ]
  },
  {
   "cell_type": "code",
   "execution_count": 63,
   "id": "8a01c447",
   "metadata": {},
   "outputs": [
    {
     "data": {
      "text/plain": [
       "'Ritika rangrej'"
      ]
     },
     "execution_count": 63,
     "metadata": {},
     "output_type": "execute_result"
    }
   ],
   "source": [
    "s5.capitalize()"
   ]
  },
  {
   "cell_type": "code",
   "execution_count": 65,
   "id": "31874ce7",
   "metadata": {},
   "outputs": [],
   "source": [
    "s6 = \"RitiKA RangREJ\""
   ]
  },
  {
   "cell_type": "code",
   "execution_count": 66,
   "id": "8bf89e0d",
   "metadata": {},
   "outputs": [
    {
     "data": {
      "text/plain": [
       "'rITIka rANGrej'"
      ]
     },
     "execution_count": 66,
     "metadata": {},
     "output_type": "execute_result"
    }
   ],
   "source": [
    "s6.swapcase()"
   ]
  },
  {
   "cell_type": "code",
   "execution_count": 67,
   "id": "9190fa30",
   "metadata": {},
   "outputs": [
    {
     "data": {
      "text/plain": [
       "<reversed at 0x7fa08c73dd90>"
      ]
     },
     "execution_count": 67,
     "metadata": {},
     "output_type": "execute_result"
    }
   ],
   "source": [
    "reversed(s6)"
   ]
  },
  {
   "cell_type": "code",
   "execution_count": 70,
   "id": "e622237f",
   "metadata": {},
   "outputs": [
    {
     "data": {
      "text/plain": [
       "'J*E*R*g*n*a*R* *A*K*i*t*i*R'"
      ]
     },
     "execution_count": 70,
     "metadata": {},
     "output_type": "execute_result"
    }
   ],
   "source": [
    "'*'.join(reversed(s6))"
   ]
  },
  {
   "cell_type": "code",
   "execution_count": 74,
   "id": "95694d26",
   "metadata": {},
   "outputs": [],
   "source": [
    "s7 = \"    Tejas    Kumbhar    \""
   ]
  },
  {
   "cell_type": "code",
   "execution_count": 75,
   "id": "aa918ccc",
   "metadata": {},
   "outputs": [
    {
     "data": {
      "text/plain": [
       "'    Tejas    Kumbhar    '"
      ]
     },
     "execution_count": 75,
     "metadata": {},
     "output_type": "execute_result"
    }
   ],
   "source": [
    "s7"
   ]
  },
  {
   "cell_type": "code",
   "execution_count": 76,
   "id": "7812a35c",
   "metadata": {},
   "outputs": [
    {
     "data": {
      "text/plain": [
       "'Tejas    Kumbhar'"
      ]
     },
     "execution_count": 76,
     "metadata": {},
     "output_type": "execute_result"
    }
   ],
   "source": [
    "s7.strip()"
   ]
  },
  {
   "cell_type": "code",
   "execution_count": 77,
   "id": "e830ad88",
   "metadata": {},
   "outputs": [
    {
     "data": {
      "text/plain": [
       "'    Tejas    Kumbhar    '"
      ]
     },
     "execution_count": 77,
     "metadata": {},
     "output_type": "execute_result"
    }
   ],
   "source": [
    "s7"
   ]
  },
  {
   "cell_type": "code",
   "execution_count": 78,
   "id": "9fdc47b6",
   "metadata": {},
   "outputs": [
    {
     "data": {
      "text/plain": [
       "'Tejas    Kumbhar    '"
      ]
     },
     "execution_count": 78,
     "metadata": {},
     "output_type": "execute_result"
    }
   ],
   "source": [
    "s7.lstrip()"
   ]
  },
  {
   "cell_type": "code",
   "execution_count": 79,
   "id": "18b9b8c3",
   "metadata": {},
   "outputs": [
    {
     "data": {
      "text/plain": [
       "'    Tejas    Kumbhar'"
      ]
     },
     "execution_count": 79,
     "metadata": {},
     "output_type": "execute_result"
    }
   ],
   "source": [
    "s7.rstrip()"
   ]
  },
  {
   "cell_type": "code",
   "execution_count": 92,
   "id": "f7c997cd",
   "metadata": {},
   "outputs": [],
   "source": [
    "s8 = 'madhu Priya'"
   ]
  },
  {
   "cell_type": "code",
   "execution_count": 85,
   "id": "90193b73",
   "metadata": {},
   "outputs": [
    {
     "data": {
      "text/plain": [
       "'**********Madhu***********'"
      ]
     },
     "execution_count": 85,
     "metadata": {},
     "output_type": "execute_result"
    }
   ],
   "source": [
    "s8.center(26, \"*\")"
   ]
  },
  {
   "cell_type": "code",
   "execution_count": 86,
   "id": "d1d7e401",
   "metadata": {},
   "outputs": [
    {
     "data": {
      "text/plain": [
       "'Madhu'"
      ]
     },
     "execution_count": 86,
     "metadata": {},
     "output_type": "execute_result"
    }
   ],
   "source": [
    "s8"
   ]
  },
  {
   "cell_type": "code",
   "execution_count": 87,
   "id": "04259d14",
   "metadata": {},
   "outputs": [
    {
     "data": {
      "text/plain": [
       "False"
      ]
     },
     "execution_count": 87,
     "metadata": {},
     "output_type": "execute_result"
    }
   ],
   "source": [
    "s8.isupper()"
   ]
  },
  {
   "cell_type": "code",
   "execution_count": 90,
   "id": "47c79074",
   "metadata": {},
   "outputs": [
    {
     "data": {
      "text/plain": [
       "True"
      ]
     },
     "execution_count": 90,
     "metadata": {},
     "output_type": "execute_result"
    }
   ],
   "source": [
    "s8.islower()"
   ]
  },
  {
   "cell_type": "code",
   "execution_count": 93,
   "id": "f81f7536",
   "metadata": {},
   "outputs": [
    {
     "data": {
      "text/plain": [
       "False"
      ]
     },
     "execution_count": 93,
     "metadata": {},
     "output_type": "execute_result"
    }
   ],
   "source": [
    "s8.isspace()"
   ]
  },
  {
   "cell_type": "code",
   "execution_count": 94,
   "id": "66ee9488",
   "metadata": {},
   "outputs": [],
   "source": [
    "s = \"           \""
   ]
  },
  {
   "cell_type": "code",
   "execution_count": 95,
   "id": "6638cdea",
   "metadata": {},
   "outputs": [
    {
     "data": {
      "text/plain": [
       "True"
      ]
     },
     "execution_count": 95,
     "metadata": {},
     "output_type": "execute_result"
    }
   ],
   "source": [
    "s.isspace()"
   ]
  },
  {
   "cell_type": "code",
   "execution_count": 96,
   "id": "f2d636a2",
   "metadata": {},
   "outputs": [
    {
     "data": {
      "text/plain": [
       "False"
      ]
     },
     "execution_count": 96,
     "metadata": {},
     "output_type": "execute_result"
    }
   ],
   "source": [
    "s8.isdigit()"
   ]
  },
  {
   "cell_type": "code",
   "execution_count": 97,
   "id": "4a30e31d",
   "metadata": {},
   "outputs": [],
   "source": [
    "s9 = \"SCFP123003\""
   ]
  },
  {
   "cell_type": "code",
   "execution_count": 98,
   "id": "a5ef1627",
   "metadata": {},
   "outputs": [
    {
     "data": {
      "text/plain": [
       "False"
      ]
     },
     "execution_count": 98,
     "metadata": {},
     "output_type": "execute_result"
    }
   ],
   "source": [
    "s9.isdigit()"
   ]
  },
  {
   "cell_type": "code",
   "execution_count": 110,
   "id": "bb494f28",
   "metadata": {},
   "outputs": [],
   "source": [
    "s9 = \"fgsdf8347653874\""
   ]
  },
  {
   "cell_type": "code",
   "execution_count": 111,
   "id": "c308f396",
   "metadata": {},
   "outputs": [
    {
     "data": {
      "text/plain": [
       "str"
      ]
     },
     "execution_count": 111,
     "metadata": {},
     "output_type": "execute_result"
    }
   ],
   "source": [
    "type(s9)"
   ]
  },
  {
   "cell_type": "code",
   "execution_count": 112,
   "id": "af3a4637",
   "metadata": {},
   "outputs": [
    {
     "data": {
      "text/plain": [
       "False"
      ]
     },
     "execution_count": 112,
     "metadata": {},
     "output_type": "execute_result"
    }
   ],
   "source": [
    "s9.isdigit()"
   ]
  },
  {
   "cell_type": "code",
   "execution_count": 113,
   "id": "b887827c",
   "metadata": {},
   "outputs": [
    {
     "data": {
      "text/plain": [
       "True"
      ]
     },
     "execution_count": 113,
     "metadata": {},
     "output_type": "execute_result"
    }
   ],
   "source": [
    "s9.isalnum()"
   ]
  },
  {
   "cell_type": "code",
   "execution_count": 114,
   "id": "0d4d25bb",
   "metadata": {},
   "outputs": [],
   "source": [
    "s10 = \"djfhgklsdjf\""
   ]
  },
  {
   "cell_type": "code",
   "execution_count": 115,
   "id": "9177e3a8",
   "metadata": {},
   "outputs": [
    {
     "data": {
      "text/plain": [
       "True"
      ]
     },
     "execution_count": 115,
     "metadata": {},
     "output_type": "execute_result"
    }
   ],
   "source": [
    "s10.isalnum()"
   ]
  },
  {
   "cell_type": "code",
   "execution_count": 116,
   "id": "ab7f624f",
   "metadata": {},
   "outputs": [
    {
     "data": {
      "text/plain": [
       "True"
      ]
     },
     "execution_count": 116,
     "metadata": {},
     "output_type": "execute_result"
    }
   ],
   "source": [
    "s10.isalpha()"
   ]
  },
  {
   "cell_type": "code",
   "execution_count": 117,
   "id": "44cd021b",
   "metadata": {},
   "outputs": [
    {
     "data": {
      "text/plain": [
       "False"
      ]
     },
     "execution_count": 117,
     "metadata": {},
     "output_type": "execute_result"
    }
   ],
   "source": [
    "s9.isalpha()"
   ]
  },
  {
   "cell_type": "code",
   "execution_count": 118,
   "id": "06626f45",
   "metadata": {},
   "outputs": [
    {
     "data": {
      "text/plain": [
       "'djfhgklsdjf'"
      ]
     },
     "execution_count": 118,
     "metadata": {},
     "output_type": "execute_result"
    }
   ],
   "source": [
    "s10"
   ]
  },
  {
   "cell_type": "code",
   "execution_count": 120,
   "id": "d6c00886",
   "metadata": {},
   "outputs": [
    {
     "data": {
      "text/plain": [
       "True"
      ]
     },
     "execution_count": 120,
     "metadata": {},
     "output_type": "execute_result"
    }
   ],
   "source": [
    "s10.startswith('d')"
   ]
  },
  {
   "cell_type": "code",
   "execution_count": 122,
   "id": "68b308a2",
   "metadata": {},
   "outputs": [
    {
     "data": {
      "text/plain": [
       "True"
      ]
     },
     "execution_count": 122,
     "metadata": {},
     "output_type": "execute_result"
    }
   ],
   "source": [
    "s10.endswith('f')"
   ]
  },
  {
   "cell_type": "code",
   "execution_count": 123,
   "id": "4d4d3c47",
   "metadata": {},
   "outputs": [
    {
     "data": {
      "text/plain": [
       "False"
      ]
     },
     "execution_count": 123,
     "metadata": {},
     "output_type": "execute_result"
    }
   ],
   "source": [
    "s10.isdigit()"
   ]
  },
  {
   "cell_type": "code",
   "execution_count": 124,
   "id": "85c20939",
   "metadata": {},
   "outputs": [
    {
     "data": {
      "text/plain": [
       "False"
      ]
     },
     "execution_count": 124,
     "metadata": {},
     "output_type": "execute_result"
    }
   ],
   "source": [
    "s10.isnumeric()"
   ]
  },
  {
   "cell_type": "code",
   "execution_count": 125,
   "id": "f503c88f",
   "metadata": {},
   "outputs": [],
   "source": [
    "s11 = \"43867238\""
   ]
  },
  {
   "cell_type": "code",
   "execution_count": 126,
   "id": "c22336ca",
   "metadata": {},
   "outputs": [],
   "source": [
    "s12 = \"dfjbv43534\""
   ]
  },
  {
   "cell_type": "code",
   "execution_count": 128,
   "id": "e7413b98",
   "metadata": {},
   "outputs": [
    {
     "data": {
      "text/plain": [
       "False"
      ]
     },
     "execution_count": 128,
     "metadata": {},
     "output_type": "execute_result"
    }
   ],
   "source": [
    "s12.isdigit()"
   ]
  },
  {
   "cell_type": "code",
   "execution_count": 131,
   "id": "a818bdd8",
   "metadata": {},
   "outputs": [
    {
     "data": {
      "text/plain": [
       "True"
      ]
     },
     "execution_count": 131,
     "metadata": {},
     "output_type": "execute_result"
    }
   ],
   "source": [
    "s11.isnumeric()"
   ]
  },
  {
   "cell_type": "code",
   "execution_count": 132,
   "id": "bb5f5e64",
   "metadata": {},
   "outputs": [],
   "source": [
    "s13 = \"D\""
   ]
  },
  {
   "cell_type": "code",
   "execution_count": 133,
   "id": "ffc5bbf0",
   "metadata": {},
   "outputs": [
    {
     "data": {
      "text/plain": [
       "False"
      ]
     },
     "execution_count": 133,
     "metadata": {},
     "output_type": "execute_result"
    }
   ],
   "source": [
    "s13.isnumeric()"
   ]
  },
  {
   "cell_type": "code",
   "execution_count": 134,
   "id": "c6cfb056",
   "metadata": {},
   "outputs": [
    {
     "data": {
      "text/plain": [
       "False"
      ]
     },
     "execution_count": 134,
     "metadata": {},
     "output_type": "execute_result"
    }
   ],
   "source": [
    "s13.isdigit()"
   ]
  },
  {
   "cell_type": "markdown",
   "id": "d3c126f3",
   "metadata": {},
   "source": [
    "Homework:---> 1. What is the difference between isnumeric() and is digit()"
   ]
  },
  {
   "cell_type": "code",
   "execution_count": 135,
   "id": "606ff928",
   "metadata": {},
   "outputs": [],
   "source": [
    "s = \"Python\\tis\\ta\\tbeautiful\\tlanguage\""
   ]
  },
  {
   "cell_type": "code",
   "execution_count": 136,
   "id": "cd488cd7",
   "metadata": {},
   "outputs": [
    {
     "data": {
      "text/plain": [
       "'Python\\tis\\ta\\tbeautiful\\tlanguage'"
      ]
     },
     "execution_count": 136,
     "metadata": {},
     "output_type": "execute_result"
    }
   ],
   "source": [
    "s"
   ]
  },
  {
   "cell_type": "code",
   "execution_count": 137,
   "id": "da5769e8",
   "metadata": {},
   "outputs": [
    {
     "data": {
      "text/plain": [
       "'Python  is      a       beautiful       language'"
      ]
     },
     "execution_count": 137,
     "metadata": {},
     "output_type": "execute_result"
    }
   ],
   "source": [
    "s.expandtabs()"
   ]
  },
  {
   "cell_type": "code",
   "execution_count": 138,
   "id": "87e6c658",
   "metadata": {},
   "outputs": [],
   "source": [
    "s = \"Python\\nis\\ta\\tbeautiful\\tlanguage\""
   ]
  },
  {
   "cell_type": "code",
   "execution_count": 139,
   "id": "b5aa6197",
   "metadata": {},
   "outputs": [
    {
     "data": {
      "text/plain": [
       "'Python\\nis      a       beautiful       language'"
      ]
     },
     "execution_count": 139,
     "metadata": {},
     "output_type": "execute_result"
    }
   ],
   "source": [
    "s.expandtabs()"
   ]
  },
  {
   "cell_type": "raw",
   "id": "a3d4666a",
   "metadata": {},
   "source": [
    "# Homework-1\n",
    "\n",
    "s = \"this is My First Python programming class and i am learNING python string and its function\"\n",
    "1 . Try to extract data from index one to index 300 with a jump of 3 \n",
    "2. Try to reverse a string without using reverse function \n",
    "3. Try to split a string after conversion of entire string in uppercase \n",
    "4. try to convert the whole string into lower case \n",
    "5 . Try to capitalize the whole string \n",
    "6 . Write a diference between isalnum() and isalpha()\n",
    "7. Try to give an example of expand tab\n",
    "8 . Give an example of strip , lstrip and rstrip \n",
    "9.  Replace a string charecter by another charector by taking your own example \n",
    "\"Madhu Priya\"\n",
    "10 . Try  to give a defination of string center function with and exmple \n",
    "11 . Write your own definition of compiler and interpretor without copy paste form internet in your own language\n",
    "12 . Python is a interpreted of compiled language give a clear ans with your understanding \n",
    "13 . Try to write a usecase of python with your understanding .\n",
    "14. Why Python is So Popular?\n",
    "15. What is the difference between C, C++, Java and Python?\n"
   ]
  },
  {
   "cell_type": "code",
   "execution_count": null,
   "id": "f667f351",
   "metadata": {},
   "outputs": [],
   "source": []
  }
 ],
 "metadata": {
  "kernelspec": {
   "display_name": "Python 3 (ipykernel)",
   "language": "python",
   "name": "python3"
  },
  "language_info": {
   "codemirror_mode": {
    "name": "ipython",
    "version": 3
   },
   "file_extension": ".py",
   "mimetype": "text/x-python",
   "name": "python",
   "nbconvert_exporter": "python",
   "pygments_lexer": "ipython3",
   "version": "3.9.12"
  }
 },
 "nbformat": 4,
 "nbformat_minor": 5
}
