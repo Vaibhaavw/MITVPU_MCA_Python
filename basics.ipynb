{
 "cells": [
  {
   "cell_type": "markdown",
   "id": "fa4b2f8d",
   "metadata": {},
   "source": [
    "My name is Madhu Priya.\n",
    "\n"
   ]
  },
  {
   "cell_type": "markdown",
   "id": "fd3282e7",
   "metadata": {},
   "source": [
    "jsgdjhsad"
   ]
  },
  {
   "cell_type": "markdown",
   "id": "c1ca2411",
   "metadata": {},
   "source": [
    "ksjdhaksjd\n",
    "lkdjhfbkjsdhf\n",
    "skjdhfgkldsjfng;lva\n",
    "kjdfbgkjsfnb"
   ]
  },
  {
   "cell_type": "raw",
   "id": "917f2b4d",
   "metadata": {},
   "source": [
    "jhsdbjashdb\n",
    "jshdbfjkhasd\n",
    "shdbflkashbdf\n",
    "jhsdbfjha\n"
   ]
  },
  {
   "cell_type": "code",
   "execution_count": null,
   "id": "4bd3bccd",
   "metadata": {},
   "outputs": [],
   "source": []
  },
  {
   "cell_type": "markdown",
   "id": "23af1a94",
   "metadata": {},
   "source": [
    "# Heading"
   ]
  },
  {
   "cell_type": "markdown",
   "id": "70660052",
   "metadata": {},
   "source": [
    "d,fjnvdksjfn"
   ]
  },
  {
   "cell_type": "markdown",
   "id": "87c9dc83",
   "metadata": {},
   "source": [
    "# String\n",
    "## String should be written inside inverted commas \n",
    "### eg:- \"String\""
   ]
  },
  {
   "cell_type": "code",
   "execution_count": 8,
   "id": "e64fea64",
   "metadata": {},
   "outputs": [],
   "source": [
    "name = \"Ritika\""
   ]
  },
  {
   "cell_type": "code",
   "execution_count": 9,
   "id": "da4b094e",
   "metadata": {},
   "outputs": [
    {
     "data": {
      "text/plain": [
       "'Ritika'"
      ]
     },
     "execution_count": 9,
     "metadata": {},
     "output_type": "execute_result"
    }
   ],
   "source": [
    "name"
   ]
  },
  {
   "cell_type": "code",
   "execution_count": 10,
   "id": "21d0ed0b",
   "metadata": {},
   "outputs": [
    {
     "data": {
      "text/plain": [
       "str"
      ]
     },
     "execution_count": 10,
     "metadata": {},
     "output_type": "execute_result"
    }
   ],
   "source": [
    "type(name)"
   ]
  },
  {
   "cell_type": "code",
   "execution_count": 11,
   "id": "7077a096",
   "metadata": {},
   "outputs": [],
   "source": [
    "a = 987"
   ]
  },
  {
   "cell_type": "code",
   "execution_count": 12,
   "id": "ad796667",
   "metadata": {},
   "outputs": [
    {
     "data": {
      "text/plain": [
       "int"
      ]
     },
     "execution_count": 12,
     "metadata": {},
     "output_type": "execute_result"
    }
   ],
   "source": [
    "type(a)"
   ]
  },
  {
   "cell_type": "code",
   "execution_count": 13,
   "id": "ef1e6c8d",
   "metadata": {},
   "outputs": [],
   "source": [
    "b = 9.45"
   ]
  },
  {
   "cell_type": "code",
   "execution_count": 14,
   "id": "75e3e9ee",
   "metadata": {},
   "outputs": [
    {
     "data": {
      "text/plain": [
       "float"
      ]
     },
     "execution_count": 14,
     "metadata": {},
     "output_type": "execute_result"
    }
   ],
   "source": [
    "type(b)"
   ]
  },
  {
   "cell_type": "code",
   "execution_count": 25,
   "id": "31fcd423",
   "metadata": {},
   "outputs": [],
   "source": [
    "n = 8+9j"
   ]
  },
  {
   "cell_type": "code",
   "execution_count": 26,
   "id": "e5a92809",
   "metadata": {},
   "outputs": [
    {
     "data": {
      "text/plain": [
       "complex"
      ]
     },
     "execution_count": 26,
     "metadata": {},
     "output_type": "execute_result"
    }
   ],
   "source": [
    "type(n)"
   ]
  },
  {
   "cell_type": "code",
   "execution_count": 27,
   "id": "09ed4267",
   "metadata": {},
   "outputs": [
    {
     "ename": "SyntaxError",
     "evalue": "invalid syntax (3394096507.py, line 1)",
     "output_type": "error",
     "traceback": [
      "\u001b[0;36m  Input \u001b[0;32mIn [27]\u001b[0;36m\u001b[0m\n\u001b[0;31m    n = 7+6i\u001b[0m\n\u001b[0m           ^\u001b[0m\n\u001b[0;31mSyntaxError\u001b[0m\u001b[0;31m:\u001b[0m invalid syntax\n"
     ]
    }
   ],
   "source": [
    "n = 7+6i"
   ]
  },
  {
   "cell_type": "code",
   "execution_count": 28,
   "id": "c1a9b64a",
   "metadata": {},
   "outputs": [
    {
     "data": {
      "text/plain": [
       "354"
      ]
     },
     "execution_count": 28,
     "metadata": {},
     "output_type": "execute_result"
    }
   ],
   "source": [
    "8+346"
   ]
  },
  {
   "cell_type": "code",
   "execution_count": 29,
   "id": "2956bf6f",
   "metadata": {},
   "outputs": [
    {
     "data": {
      "text/plain": [
       "(16+18j)"
      ]
     },
     "execution_count": 29,
     "metadata": {},
     "output_type": "execute_result"
    }
   ],
   "source": [
    "n+n"
   ]
  },
  {
   "cell_type": "code",
   "execution_count": 30,
   "id": "cd2ace3b",
   "metadata": {},
   "outputs": [
    {
     "data": {
      "text/plain": [
       "2"
      ]
     },
     "execution_count": 30,
     "metadata": {},
     "output_type": "execute_result"
    }
   ],
   "source": [
    "True+True"
   ]
  },
  {
   "cell_type": "code",
   "execution_count": 31,
   "id": "dbfd5683",
   "metadata": {},
   "outputs": [
    {
     "data": {
      "text/plain": [
       "1"
      ]
     },
     "execution_count": 31,
     "metadata": {},
     "output_type": "execute_result"
    }
   ],
   "source": [
    "True-False"
   ]
  },
  {
   "cell_type": "code",
   "execution_count": 32,
   "id": "6c16dda3",
   "metadata": {},
   "outputs": [
    {
     "ename": "ZeroDivisionError",
     "evalue": "division by zero",
     "output_type": "error",
     "traceback": [
      "\u001b[0;31m---------------------------------------------------------------------------\u001b[0m",
      "\u001b[0;31mZeroDivisionError\u001b[0m                         Traceback (most recent call last)",
      "Input \u001b[0;32mIn [32]\u001b[0m, in \u001b[0;36m<cell line: 1>\u001b[0;34m()\u001b[0m\n\u001b[0;32m----> 1\u001b[0m \u001b[38;5;28;43;01mTrue\u001b[39;49;00m\u001b[38;5;241;43m/\u001b[39;49m\u001b[38;5;28;43;01mFalse\u001b[39;49;00m\n",
      "\u001b[0;31mZeroDivisionError\u001b[0m: division by zero"
     ]
    }
   ],
   "source": [
    "True/False"
   ]
  },
  {
   "cell_type": "code",
   "execution_count": 33,
   "id": "dbbffd6c",
   "metadata": {},
   "outputs": [
    {
     "data": {
      "text/plain": [
       "0.0"
      ]
     },
     "execution_count": 33,
     "metadata": {},
     "output_type": "execute_result"
    }
   ],
   "source": [
    "False/True"
   ]
  },
  {
   "cell_type": "code",
   "execution_count": 38,
   "id": "19316b7b",
   "metadata": {},
   "outputs": [],
   "source": [
    "name = \"Tejas\""
   ]
  },
  {
   "cell_type": "code",
   "execution_count": 39,
   "id": "dc787ab3",
   "metadata": {},
   "outputs": [
    {
     "data": {
      "text/plain": [
       "'T'"
      ]
     },
     "execution_count": 39,
     "metadata": {},
     "output_type": "execute_result"
    }
   ],
   "source": [
    "name[0]"
   ]
  },
  {
   "cell_type": "code",
   "execution_count": 42,
   "id": "8fd0e332",
   "metadata": {},
   "outputs": [
    {
     "data": {
      "text/plain": [
       "'Tejas'"
      ]
     },
     "execution_count": 42,
     "metadata": {},
     "output_type": "execute_result"
    }
   ],
   "source": [
    "name[0:100]"
   ]
  },
  {
   "cell_type": "code",
   "execution_count": 43,
   "id": "2b764715",
   "metadata": {},
   "outputs": [],
   "source": [
    "sent = \"Namdev is a very good boy\""
   ]
  },
  {
   "cell_type": "code",
   "execution_count": 47,
   "id": "b2cbc11b",
   "metadata": {},
   "outputs": [
    {
     "data": {
      "text/plain": [
       "'me '"
      ]
     },
     "execution_count": 47,
     "metadata": {},
     "output_type": "execute_result"
    }
   ],
   "source": [
    "sent[2:7:2]"
   ]
  },
  {
   "cell_type": "code",
   "execution_count": 50,
   "id": "4574696a",
   "metadata": {},
   "outputs": [
    {
     "data": {
      "text/plain": [
       "'ybdo rvas em'"
      ]
     },
     "execution_count": 50,
     "metadata": {},
     "output_type": "execute_result"
    }
   ],
   "source": [
    "sent[90:0:-2]"
   ]
  },
  {
   "cell_type": "code",
   "execution_count": 51,
   "id": "f281425c",
   "metadata": {},
   "outputs": [
    {
     "data": {
      "text/plain": [
       "'yob doog yrev a si vedma'"
      ]
     },
     "execution_count": 51,
     "metadata": {},
     "output_type": "execute_result"
    }
   ],
   "source": [
    "sent[90:0:-1]"
   ]
  },
  {
   "cell_type": "code",
   "execution_count": 56,
   "id": "e9347387",
   "metadata": {},
   "outputs": [
    {
     "data": {
      "text/plain": [
       "'yob doog yrev a si vedmaN'"
      ]
     },
     "execution_count": 56,
     "metadata": {},
     "output_type": "execute_result"
    }
   ],
   "source": [
    "sent[::]\n",
    "sent[::-1]"
   ]
  },
  {
   "cell_type": "code",
   "execution_count": 55,
   "id": "de34cbfe",
   "metadata": {},
   "outputs": [
    {
     "data": {
      "text/plain": [
       "'yob doog yrev a si vedmaN'"
      ]
     },
     "execution_count": 55,
     "metadata": {},
     "output_type": "execute_result"
    }
   ],
   "source": [
    "sent[::-1]"
   ]
  },
  {
   "cell_type": "code",
   "execution_count": 61,
   "id": "a3ff8db0",
   "metadata": {},
   "outputs": [
    {
     "name": "stdout",
     "output_type": "stream",
     "text": [
      "Namdev is a very good boy\n",
      "yob doog yrev a si vedmaN\n"
     ]
    }
   ],
   "source": [
    "print(sent[::])\n",
    "print(sent[::-1])"
   ]
  },
  {
   "cell_type": "code",
   "execution_count": 60,
   "id": "3a739b78",
   "metadata": {},
   "outputs": [
    {
     "data": {
      "text/plain": [
       "'yob doog '"
      ]
     },
     "execution_count": 60,
     "metadata": {},
     "output_type": "execute_result"
    }
   ],
   "source": [
    "sent[-1:-10:-1]"
   ]
  },
  {
   "cell_type": "code",
   "execution_count": 62,
   "id": "e3d4e7db",
   "metadata": {},
   "outputs": [
    {
     "data": {
      "text/plain": [
       "''"
      ]
     },
     "execution_count": 62,
     "metadata": {},
     "output_type": "execute_result"
    }
   ],
   "source": [
    "sent[-1:-10:1]"
   ]
  },
  {
   "cell_type": "code",
   "execution_count": 64,
   "id": "ec943687",
   "metadata": {},
   "outputs": [
    {
     "data": {
      "text/plain": [
       "'yob doog yrev a si vedmaN'"
      ]
     },
     "execution_count": 64,
     "metadata": {},
     "output_type": "execute_result"
    }
   ],
   "source": [
    "sent[-1:-45:-1]"
   ]
  },
  {
   "cell_type": "code",
   "execution_count": 65,
   "id": "2b81fe53",
   "metadata": {},
   "outputs": [
    {
     "data": {
      "text/plain": [
       "''"
      ]
     },
     "execution_count": 65,
     "metadata": {},
     "output_type": "execute_result"
    }
   ],
   "source": [
    "sent[-1:-10:2]\n"
   ]
  },
  {
   "cell_type": "code",
   "execution_count": 66,
   "id": "f93c8cb3",
   "metadata": {},
   "outputs": [
    {
     "data": {
      "text/plain": [
       "'yrev a si vedm'"
      ]
     },
     "execution_count": 66,
     "metadata": {},
     "output_type": "execute_result"
    }
   ],
   "source": [
    "sent[-10:1:-1]"
   ]
  },
  {
   "cell_type": "markdown",
   "id": "cf901ca8",
   "metadata": {},
   "source": [
    "# Data Structures\n",
    "\n",
    "## List"
   ]
  },
  {
   "cell_type": "code",
   "execution_count": 67,
   "id": "6a4bcc09",
   "metadata": {},
   "outputs": [],
   "source": [
    "a = [23,45,567,12,4567, 67,3453,586]"
   ]
  },
  {
   "cell_type": "code",
   "execution_count": 68,
   "id": "e89c6471",
   "metadata": {},
   "outputs": [
    {
     "data": {
      "text/plain": [
       "list"
      ]
     },
     "execution_count": 68,
     "metadata": {},
     "output_type": "execute_result"
    }
   ],
   "source": [
    "type(a)"
   ]
  },
  {
   "cell_type": "code",
   "execution_count": 75,
   "id": "6e11c9d1",
   "metadata": {},
   "outputs": [],
   "source": [
    "b = [\"Madhu\", 345, 567, True, 8.345, 'Tejas'] # ]]//"
   ]
  },
  {
   "cell_type": "code",
   "execution_count": 76,
   "id": "e8155899",
   "metadata": {},
   "outputs": [
    {
     "data": {
      "text/plain": [
       "['Madhu', 345, 567, True, 8.345, 'Tejas']"
      ]
     },
     "execution_count": 76,
     "metadata": {},
     "output_type": "execute_result"
    }
   ],
   "source": [
    "b"
   ]
  },
  {
   "cell_type": "code",
   "execution_count": 77,
   "id": "01d27297",
   "metadata": {},
   "outputs": [
    {
     "data": {
      "text/plain": [
       "list"
      ]
     },
     "execution_count": 77,
     "metadata": {},
     "output_type": "execute_result"
    }
   ],
   "source": [
    "type(b)"
   ]
  },
  {
   "cell_type": "code",
   "execution_count": null,
   "id": "d93c6616",
   "metadata": {},
   "outputs": [],
   "source": []
  }
 ],
 "metadata": {
  "kernelspec": {
   "display_name": "Python 3 (ipykernel)",
   "language": "python",
   "name": "python3"
  },
  "language_info": {
   "codemirror_mode": {
    "name": "ipython",
    "version": 3
   },
   "file_extension": ".py",
   "mimetype": "text/x-python",
   "name": "python",
   "nbconvert_exporter": "python",
   "pygments_lexer": "ipython3",
   "version": "3.9.12"
  }
 },
 "nbformat": 4,
 "nbformat_minor": 5
}
